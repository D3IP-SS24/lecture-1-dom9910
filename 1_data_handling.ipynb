{
 "cells": [
  {
   "cell_type": "markdown",
   "metadata": {
    "id": "RZzQrlYHFI-c",
    "slideshow": {
     "slide_type": "slide"
    }
   },
   "source": [
    "<div class='bar_title'></div>\n",
    "\n",
    "*Data Driven Decisions in Practice (D3IP): Urban Analytics*\n",
    "\n",
    "# 1. Data Handling in Python\n",
    "\n",
    "Gunther Gust \n",
    "Chair for Enterprise AI <br>\n",
    "Data Driven Decisions (D3) Group <br>\n",
    "Center for Artificial Intelligence & Data Science <br>\n"
   ]
  },
  {
   "cell_type": "markdown",
   "metadata": {},
   "source": [
    "<img src=\"images/d3.png\" style=\"width:20%; float:left;\" />"
   ]
  },
  {
   "cell_type": "markdown",
   "metadata": {},
   "source": [
    "<img src=\"images/CAIDASlogo.png\" style=\"width:20%; float:left;\" />"
   ]
  },
  {
   "cell_type": "markdown",
   "metadata": {
    "id": "bKaui31bFI-d",
    "slideshow": {
     "slide_type": "slide"
    }
   },
   "source": [
    "## Content\n",
    "\n",
    "- Learn how to work with datasets using Python, in particular:\n",
    "- Loading data sets\n",
    "- Manipulating data sets\n",
    "- Visualizing data (aka plotting)\n"
   ]
  },
  {
   "cell_type": "markdown",
   "metadata": {
    "id": "GYIEjRFeFI-e",
    "slideshow": {
     "slide_type": "fragment"
    }
   },
   "source": [
    "*Credits: Most of the material is taken from [Arribas-Bel, Geographic Data Science](https://darribas.org/gds_course/content/home.html#)*"
   ]
  },
  {
   "cell_type": "markdown",
   "metadata": {
    "id": "La0heuDAFI-e",
    "slideshow": {
     "slide_type": "slide"
    }
   },
   "source": [
    "## Dataset\n",
    "\n"
   ]
  },
  {
   "cell_type": "code",
   "execution_count": 2,
   "metadata": {
    "id": "N6Gl7wqxFI-e",
    "slideshow": {
     "slide_type": "fragment"
    }
   },
   "outputs": [],
   "source": [
    "import pandas as pd    # This is the workhorse of data munging in Python\n"
   ]
  },
  {
   "cell_type": "code",
   "execution_count": 3,
   "metadata": {},
   "outputs": [],
   "source": [
    "db = pd.read_csv(\"liv_pop.csv\", index_col=\"GeographyCode\")"
   ]
  },
  {
   "cell_type": "markdown",
   "metadata": {
    "id": "kwnhJzWxFI-f",
    "slideshow": {
     "slide_type": "fragment"
    }
   },
   "source": [
    "Let us stop for a minute to learn how we have read the file. Here are the main aspects to keep in mind:\n",
    "\n",
    "* We are using the method `read_csv` from the `pandas` library, which we have imported with the alias `pd`.\n",
    "* In this form, all that is required is to pass the path to the file we want to read _relative_ to the directory where _this_ notebook is located (which in this case in the same folder).\n",
    "* The argument `index_col` is not strictly necessary but allows us to choose one of the columns as the index of the table. More on indices below.\n",
    "* We are using `read_csv` because the file we want to read is in the `csv` format. However, `pandas` allows for many more formats to be read and write. A full list of formats supported may be found [here](https://pandas.pydata.org/docs/user_guide/io.html).\n",
    "* To ensure we can access the data we have read, we store it in an _object_ that we call `db`. We will see more on what we can do with it below but, for now, just keep in mind that allows us to save the result of `read_csv`."
   ]
  },
  {
   "cell_type": "markdown",
   "metadata": {
    "id": "qoeGLFzhFI-g",
    "slideshow": {
     "slide_type": "slide"
    }
   },
   "source": [
    "\n",
    "Instead of reading the file from disk, we can read it also directly off the web:\n",
    "\n",
    "```python\n",
    "db = pd.read_csv(\"https://raw.githubusercontent.com/GuntherGust/sc_gdsa_data/main/liv_pop.csv\",\n",
    "                 index_col='GeographyCode')\n",
    "```\n"
   ]
  },
  {
   "cell_type": "code",
   "execution_count": 4,
   "metadata": {
    "id": "-jy5R3B7FI-g",
    "outputId": "12be1f9a-44fd-46b4-978f-4c1cf44f07c5",
    "slideshow": {
     "slide_type": "slide"
    }
   },
   "outputs": [
    {
     "data": {
      "text/html": [
       "<div>\n",
       "<style scoped>\n",
       "    .dataframe tbody tr th:only-of-type {\n",
       "        vertical-align: middle;\n",
       "    }\n",
       "\n",
       "    .dataframe tbody tr th {\n",
       "        vertical-align: top;\n",
       "    }\n",
       "\n",
       "    .dataframe thead th {\n",
       "        text-align: right;\n",
       "    }\n",
       "</style>\n",
       "<table border=\"1\" class=\"dataframe\">\n",
       "  <thead>\n",
       "    <tr style=\"text-align: right;\">\n",
       "      <th></th>\n",
       "      <th>Europe</th>\n",
       "      <th>Africa</th>\n",
       "      <th>Middle East and Asia</th>\n",
       "      <th>The Americas and the Caribbean</th>\n",
       "      <th>Antarctica and Oceania</th>\n",
       "    </tr>\n",
       "    <tr>\n",
       "      <th>GeographyCode</th>\n",
       "      <th></th>\n",
       "      <th></th>\n",
       "      <th></th>\n",
       "      <th></th>\n",
       "      <th></th>\n",
       "    </tr>\n",
       "  </thead>\n",
       "  <tbody>\n",
       "    <tr>\n",
       "      <th>E01006512</th>\n",
       "      <td>910</td>\n",
       "      <td>106</td>\n",
       "      <td>840</td>\n",
       "      <td>24</td>\n",
       "      <td>0</td>\n",
       "    </tr>\n",
       "    <tr>\n",
       "      <th>E01006513</th>\n",
       "      <td>2225</td>\n",
       "      <td>61</td>\n",
       "      <td>595</td>\n",
       "      <td>53</td>\n",
       "      <td>7</td>\n",
       "    </tr>\n",
       "    <tr>\n",
       "      <th>E01006514</th>\n",
       "      <td>1786</td>\n",
       "      <td>63</td>\n",
       "      <td>193</td>\n",
       "      <td>61</td>\n",
       "      <td>5</td>\n",
       "    </tr>\n",
       "    <tr>\n",
       "      <th>E01006515</th>\n",
       "      <td>974</td>\n",
       "      <td>29</td>\n",
       "      <td>185</td>\n",
       "      <td>18</td>\n",
       "      <td>2</td>\n",
       "    </tr>\n",
       "    <tr>\n",
       "      <th>E01006518</th>\n",
       "      <td>1531</td>\n",
       "      <td>69</td>\n",
       "      <td>73</td>\n",
       "      <td>19</td>\n",
       "      <td>4</td>\n",
       "    </tr>\n",
       "    <tr>\n",
       "      <th>...</th>\n",
       "      <td>...</td>\n",
       "      <td>...</td>\n",
       "      <td>...</td>\n",
       "      <td>...</td>\n",
       "      <td>...</td>\n",
       "    </tr>\n",
       "    <tr>\n",
       "      <th>E01033764</th>\n",
       "      <td>2106</td>\n",
       "      <td>32</td>\n",
       "      <td>49</td>\n",
       "      <td>15</td>\n",
       "      <td>0</td>\n",
       "    </tr>\n",
       "    <tr>\n",
       "      <th>E01033765</th>\n",
       "      <td>1277</td>\n",
       "      <td>21</td>\n",
       "      <td>33</td>\n",
       "      <td>17</td>\n",
       "      <td>3</td>\n",
       "    </tr>\n",
       "    <tr>\n",
       "      <th>E01033766</th>\n",
       "      <td>1028</td>\n",
       "      <td>12</td>\n",
       "      <td>20</td>\n",
       "      <td>8</td>\n",
       "      <td>7</td>\n",
       "    </tr>\n",
       "    <tr>\n",
       "      <th>E01033767</th>\n",
       "      <td>1003</td>\n",
       "      <td>29</td>\n",
       "      <td>29</td>\n",
       "      <td>5</td>\n",
       "      <td>1</td>\n",
       "    </tr>\n",
       "    <tr>\n",
       "      <th>E01033768</th>\n",
       "      <td>1016</td>\n",
       "      <td>69</td>\n",
       "      <td>111</td>\n",
       "      <td>21</td>\n",
       "      <td>6</td>\n",
       "    </tr>\n",
       "  </tbody>\n",
       "</table>\n",
       "<p>298 rows × 5 columns</p>\n",
       "</div>"
      ],
      "text/plain": [
       "               Europe  Africa  Middle East and Asia  \\\n",
       "GeographyCode                                         \n",
       "E01006512         910     106                   840   \n",
       "E01006513        2225      61                   595   \n",
       "E01006514        1786      63                   193   \n",
       "E01006515         974      29                   185   \n",
       "E01006518        1531      69                    73   \n",
       "...               ...     ...                   ...   \n",
       "E01033764        2106      32                    49   \n",
       "E01033765        1277      21                    33   \n",
       "E01033766        1028      12                    20   \n",
       "E01033767        1003      29                    29   \n",
       "E01033768        1016      69                   111   \n",
       "\n",
       "               The Americas and the Caribbean  Antarctica and Oceania  \n",
       "GeographyCode                                                          \n",
       "E01006512                                  24                       0  \n",
       "E01006513                                  53                       7  \n",
       "E01006514                                  61                       5  \n",
       "E01006515                                  18                       2  \n",
       "E01006518                                  19                       4  \n",
       "...                                       ...                     ...  \n",
       "E01033764                                  15                       0  \n",
       "E01033765                                  17                       3  \n",
       "E01033766                                   8                       7  \n",
       "E01033767                                   5                       1  \n",
       "E01033768                                  21                       6  \n",
       "\n",
       "[298 rows x 5 columns]"
      ]
     },
     "execution_count": 4,
     "metadata": {},
     "output_type": "execute_result"
    }
   ],
   "source": [
    "db"
   ]
  },
  {
   "cell_type": "markdown",
   "metadata": {
    "id": "SK4NUxwrFI-h",
    "slideshow": {
     "slide_type": "slide"
    }
   },
   "source": [
    "We will be exploring some demographic characteristics in Liverpool. To do that, we will use a dataset that contains population counts, split by ethnic origin. These counts are aggregated at the [Lower Layer Super Output Area](http://www.ons.gov.uk/methodology/geography/ukgeographies/censusgeography#output-area-oa) (LSOA from now on). LSOAs are an official Census geography defined by the Office of National Statistics. You can think of them, more or less, as neighbourhoods. Many data products (Census, deprivation indices, etc.) use LSOAs as one of their main geographies."
   ]
  },
  {
   "cell_type": "markdown",
   "metadata": {
    "id": "0rgsE9_FFI-h",
    "slideshow": {
     "slide_type": "fragment"
    }
   },
   "source": [
    "What we have at our fingertips is a table that summarizes, for each of the LSOAs in Liverpool, how many people live in each, by the region of the world where they were born."
   ]
  },
  {
   "cell_type": "markdown",
   "metadata": {
    "id": "Sq91X47iFI-h",
    "slideshow": {
     "slide_type": "slide"
    }
   },
   "source": [
    "\n",
    "## Manipulating data sets\n"
   ]
  },
  {
   "cell_type": "markdown",
   "metadata": {
    "id": "AVrbbcEzFI-h",
    "slideshow": {
     "slide_type": "fragment"
    }
   },
   "source": [
    "### Understanding Structure and Content"
   ]
  },
  {
   "cell_type": "code",
   "execution_count": 5,
   "metadata": {
    "id": "iPDNuY2IFI-h",
    "outputId": "0936aaa5-0edf-4fce-ae41-20b49ce4d423",
    "slideshow": {
     "slide_type": "fragment"
    }
   },
   "outputs": [
    {
     "data": {
      "text/html": [
       "<div>\n",
       "<style scoped>\n",
       "    .dataframe tbody tr th:only-of-type {\n",
       "        vertical-align: middle;\n",
       "    }\n",
       "\n",
       "    .dataframe tbody tr th {\n",
       "        vertical-align: top;\n",
       "    }\n",
       "\n",
       "    .dataframe thead th {\n",
       "        text-align: right;\n",
       "    }\n",
       "</style>\n",
       "<table border=\"1\" class=\"dataframe\">\n",
       "  <thead>\n",
       "    <tr style=\"text-align: right;\">\n",
       "      <th></th>\n",
       "      <th>Europe</th>\n",
       "      <th>Africa</th>\n",
       "      <th>Middle East and Asia</th>\n",
       "      <th>The Americas and the Caribbean</th>\n",
       "      <th>Antarctica and Oceania</th>\n",
       "    </tr>\n",
       "    <tr>\n",
       "      <th>GeographyCode</th>\n",
       "      <th></th>\n",
       "      <th></th>\n",
       "      <th></th>\n",
       "      <th></th>\n",
       "      <th></th>\n",
       "    </tr>\n",
       "  </thead>\n",
       "  <tbody>\n",
       "    <tr>\n",
       "      <th>E01006512</th>\n",
       "      <td>910</td>\n",
       "      <td>106</td>\n",
       "      <td>840</td>\n",
       "      <td>24</td>\n",
       "      <td>0</td>\n",
       "    </tr>\n",
       "    <tr>\n",
       "      <th>E01006513</th>\n",
       "      <td>2225</td>\n",
       "      <td>61</td>\n",
       "      <td>595</td>\n",
       "      <td>53</td>\n",
       "      <td>7</td>\n",
       "    </tr>\n",
       "    <tr>\n",
       "      <th>E01006514</th>\n",
       "      <td>1786</td>\n",
       "      <td>63</td>\n",
       "      <td>193</td>\n",
       "      <td>61</td>\n",
       "      <td>5</td>\n",
       "    </tr>\n",
       "    <tr>\n",
       "      <th>E01006515</th>\n",
       "      <td>974</td>\n",
       "      <td>29</td>\n",
       "      <td>185</td>\n",
       "      <td>18</td>\n",
       "      <td>2</td>\n",
       "    </tr>\n",
       "    <tr>\n",
       "      <th>E01006518</th>\n",
       "      <td>1531</td>\n",
       "      <td>69</td>\n",
       "      <td>73</td>\n",
       "      <td>19</td>\n",
       "      <td>4</td>\n",
       "    </tr>\n",
       "    <tr>\n",
       "      <th>...</th>\n",
       "      <td>...</td>\n",
       "      <td>...</td>\n",
       "      <td>...</td>\n",
       "      <td>...</td>\n",
       "      <td>...</td>\n",
       "    </tr>\n",
       "    <tr>\n",
       "      <th>E01033764</th>\n",
       "      <td>2106</td>\n",
       "      <td>32</td>\n",
       "      <td>49</td>\n",
       "      <td>15</td>\n",
       "      <td>0</td>\n",
       "    </tr>\n",
       "    <tr>\n",
       "      <th>E01033765</th>\n",
       "      <td>1277</td>\n",
       "      <td>21</td>\n",
       "      <td>33</td>\n",
       "      <td>17</td>\n",
       "      <td>3</td>\n",
       "    </tr>\n",
       "    <tr>\n",
       "      <th>E01033766</th>\n",
       "      <td>1028</td>\n",
       "      <td>12</td>\n",
       "      <td>20</td>\n",
       "      <td>8</td>\n",
       "      <td>7</td>\n",
       "    </tr>\n",
       "    <tr>\n",
       "      <th>E01033767</th>\n",
       "      <td>1003</td>\n",
       "      <td>29</td>\n",
       "      <td>29</td>\n",
       "      <td>5</td>\n",
       "      <td>1</td>\n",
       "    </tr>\n",
       "    <tr>\n",
       "      <th>E01033768</th>\n",
       "      <td>1016</td>\n",
       "      <td>69</td>\n",
       "      <td>111</td>\n",
       "      <td>21</td>\n",
       "      <td>6</td>\n",
       "    </tr>\n",
       "  </tbody>\n",
       "</table>\n",
       "<p>298 rows × 5 columns</p>\n",
       "</div>"
      ],
      "text/plain": [
       "               Europe  Africa  Middle East and Asia  \\\n",
       "GeographyCode                                         \n",
       "E01006512         910     106                   840   \n",
       "E01006513        2225      61                   595   \n",
       "E01006514        1786      63                   193   \n",
       "E01006515         974      29                   185   \n",
       "E01006518        1531      69                    73   \n",
       "...               ...     ...                   ...   \n",
       "E01033764        2106      32                    49   \n",
       "E01033765        1277      21                    33   \n",
       "E01033766        1028      12                    20   \n",
       "E01033767        1003      29                    29   \n",
       "E01033768        1016      69                   111   \n",
       "\n",
       "               The Americas and the Caribbean  Antarctica and Oceania  \n",
       "GeographyCode                                                          \n",
       "E01006512                                  24                       0  \n",
       "E01006513                                  53                       7  \n",
       "E01006514                                  61                       5  \n",
       "E01006515                                  18                       2  \n",
       "E01006518                                  19                       4  \n",
       "...                                       ...                     ...  \n",
       "E01033764                                  15                       0  \n",
       "E01033765                                  17                       3  \n",
       "E01033766                                   8                       7  \n",
       "E01033767                                   5                       1  \n",
       "E01033768                                  21                       6  \n",
       "\n",
       "[298 rows x 5 columns]"
      ]
     },
     "execution_count": 5,
     "metadata": {},
     "output_type": "execute_result"
    }
   ],
   "source": [
    "db"
   ]
  },
  {
   "cell_type": "markdown",
   "metadata": {
    "id": "1VgYYGX-FI-h",
    "slideshow": {
     "slide_type": "slide"
    }
   },
   "source": [
    "\n",
    "### Inspect\n",
    "\n",
    "Inspecting what it looks like. We can check the top (bottom) X lines of the table by passing X to the method `head` (`tail`). For example, for the top/bottom five lines:"
   ]
  },
  {
   "cell_type": "markdown",
   "metadata": {
    "id": "E0h3NH7OFI-h",
    "slideshow": {
     "slide_type": "skip"
    }
   },
   "source": [
    "Note the printing is cut to keep a nice and compact view, but enough to see its structure. Since they represent a table of data, `DataFrame` objects have two dimensions: rows and columns. Each of these is automatically assigned a name in what we will call its *index*. When printing, the index of each dimension is rendered in bold, as opposed to the standard rendering for the content. In the example above, we can see how the column index is automatically picked up from the `.csv` file's column names. For rows, we have specified when reading the file we wanted the column `GeographyCode`, so that is used. If we hadn't specified any, `pandas` will automatically generate a sequence starting in `0` and going all the way to the number of rows minus one. This is the standard structure of a `DataFrame` object, so we will come to it over and over. Importantly, even when we move to spatial data, our datasets will have a similar structure.\n",
    "\n",
    "One final feature that is worth mentioning about these tables is that they can hold columns with different types of data. In our example, this is not used as we have counts (or `int`, for integer, types) for each column. But it is useful to keep in mind we can combine this with columns that hold other type of data such as categories, text (`str`, for string), dates or, as we will see later in the course, geographic features."
   ]
  },
  {
   "cell_type": "code",
   "execution_count": 6,
   "metadata": {
    "id": "V8AOEdnnFI-i",
    "outputId": "fa0baf33-66e1-4e32-cf69-a9349eb9ec06",
    "slideshow": {
     "slide_type": "fragment"
    }
   },
   "outputs": [
    {
     "data": {
      "text/html": [
       "<div>\n",
       "<style scoped>\n",
       "    .dataframe tbody tr th:only-of-type {\n",
       "        vertical-align: middle;\n",
       "    }\n",
       "\n",
       "    .dataframe tbody tr th {\n",
       "        vertical-align: top;\n",
       "    }\n",
       "\n",
       "    .dataframe thead th {\n",
       "        text-align: right;\n",
       "    }\n",
       "</style>\n",
       "<table border=\"1\" class=\"dataframe\">\n",
       "  <thead>\n",
       "    <tr style=\"text-align: right;\">\n",
       "      <th></th>\n",
       "      <th>Europe</th>\n",
       "      <th>Africa</th>\n",
       "      <th>Middle East and Asia</th>\n",
       "      <th>The Americas and the Caribbean</th>\n",
       "      <th>Antarctica and Oceania</th>\n",
       "    </tr>\n",
       "    <tr>\n",
       "      <th>GeographyCode</th>\n",
       "      <th></th>\n",
       "      <th></th>\n",
       "      <th></th>\n",
       "      <th></th>\n",
       "      <th></th>\n",
       "    </tr>\n",
       "  </thead>\n",
       "  <tbody>\n",
       "    <tr>\n",
       "      <th>E01006512</th>\n",
       "      <td>910</td>\n",
       "      <td>106</td>\n",
       "      <td>840</td>\n",
       "      <td>24</td>\n",
       "      <td>0</td>\n",
       "    </tr>\n",
       "    <tr>\n",
       "      <th>E01006513</th>\n",
       "      <td>2225</td>\n",
       "      <td>61</td>\n",
       "      <td>595</td>\n",
       "      <td>53</td>\n",
       "      <td>7</td>\n",
       "    </tr>\n",
       "    <tr>\n",
       "      <th>E01006514</th>\n",
       "      <td>1786</td>\n",
       "      <td>63</td>\n",
       "      <td>193</td>\n",
       "      <td>61</td>\n",
       "      <td>5</td>\n",
       "    </tr>\n",
       "    <tr>\n",
       "      <th>E01006515</th>\n",
       "      <td>974</td>\n",
       "      <td>29</td>\n",
       "      <td>185</td>\n",
       "      <td>18</td>\n",
       "      <td>2</td>\n",
       "    </tr>\n",
       "    <tr>\n",
       "      <th>E01006518</th>\n",
       "      <td>1531</td>\n",
       "      <td>69</td>\n",
       "      <td>73</td>\n",
       "      <td>19</td>\n",
       "      <td>4</td>\n",
       "    </tr>\n",
       "  </tbody>\n",
       "</table>\n",
       "</div>"
      ],
      "text/plain": [
       "               Europe  Africa  Middle East and Asia  \\\n",
       "GeographyCode                                         \n",
       "E01006512         910     106                   840   \n",
       "E01006513        2225      61                   595   \n",
       "E01006514        1786      63                   193   \n",
       "E01006515         974      29                   185   \n",
       "E01006518        1531      69                    73   \n",
       "\n",
       "               The Americas and the Caribbean  Antarctica and Oceania  \n",
       "GeographyCode                                                          \n",
       "E01006512                                  24                       0  \n",
       "E01006513                                  53                       7  \n",
       "E01006514                                  61                       5  \n",
       "E01006515                                  18                       2  \n",
       "E01006518                                  19                       4  "
      ]
     },
     "execution_count": 6,
     "metadata": {},
     "output_type": "execute_result"
    }
   ],
   "source": [
    "db.head()"
   ]
  },
  {
   "cell_type": "code",
   "execution_count": 7,
   "metadata": {
    "id": "dGbd83obFI-i",
    "outputId": "96346b84-37be-4d54-f0ff-6827a795e56b",
    "slideshow": {
     "slide_type": "slide"
    }
   },
   "outputs": [
    {
     "data": {
      "text/html": [
       "<div>\n",
       "<style scoped>\n",
       "    .dataframe tbody tr th:only-of-type {\n",
       "        vertical-align: middle;\n",
       "    }\n",
       "\n",
       "    .dataframe tbody tr th {\n",
       "        vertical-align: top;\n",
       "    }\n",
       "\n",
       "    .dataframe thead th {\n",
       "        text-align: right;\n",
       "    }\n",
       "</style>\n",
       "<table border=\"1\" class=\"dataframe\">\n",
       "  <thead>\n",
       "    <tr style=\"text-align: right;\">\n",
       "      <th></th>\n",
       "      <th>Europe</th>\n",
       "      <th>Africa</th>\n",
       "      <th>Middle East and Asia</th>\n",
       "      <th>The Americas and the Caribbean</th>\n",
       "      <th>Antarctica and Oceania</th>\n",
       "    </tr>\n",
       "    <tr>\n",
       "      <th>GeographyCode</th>\n",
       "      <th></th>\n",
       "      <th></th>\n",
       "      <th></th>\n",
       "      <th></th>\n",
       "      <th></th>\n",
       "    </tr>\n",
       "  </thead>\n",
       "  <tbody>\n",
       "    <tr>\n",
       "      <th>E01033764</th>\n",
       "      <td>2106</td>\n",
       "      <td>32</td>\n",
       "      <td>49</td>\n",
       "      <td>15</td>\n",
       "      <td>0</td>\n",
       "    </tr>\n",
       "    <tr>\n",
       "      <th>E01033765</th>\n",
       "      <td>1277</td>\n",
       "      <td>21</td>\n",
       "      <td>33</td>\n",
       "      <td>17</td>\n",
       "      <td>3</td>\n",
       "    </tr>\n",
       "    <tr>\n",
       "      <th>E01033766</th>\n",
       "      <td>1028</td>\n",
       "      <td>12</td>\n",
       "      <td>20</td>\n",
       "      <td>8</td>\n",
       "      <td>7</td>\n",
       "    </tr>\n",
       "    <tr>\n",
       "      <th>E01033767</th>\n",
       "      <td>1003</td>\n",
       "      <td>29</td>\n",
       "      <td>29</td>\n",
       "      <td>5</td>\n",
       "      <td>1</td>\n",
       "    </tr>\n",
       "    <tr>\n",
       "      <th>E01033768</th>\n",
       "      <td>1016</td>\n",
       "      <td>69</td>\n",
       "      <td>111</td>\n",
       "      <td>21</td>\n",
       "      <td>6</td>\n",
       "    </tr>\n",
       "  </tbody>\n",
       "</table>\n",
       "</div>"
      ],
      "text/plain": [
       "               Europe  Africa  Middle East and Asia  \\\n",
       "GeographyCode                                         \n",
       "E01033764        2106      32                    49   \n",
       "E01033765        1277      21                    33   \n",
       "E01033766        1028      12                    20   \n",
       "E01033767        1003      29                    29   \n",
       "E01033768        1016      69                   111   \n",
       "\n",
       "               The Americas and the Caribbean  Antarctica and Oceania  \n",
       "GeographyCode                                                          \n",
       "E01033764                                  15                       0  \n",
       "E01033765                                  17                       3  \n",
       "E01033766                                   8                       7  \n",
       "E01033767                                   5                       1  \n",
       "E01033768                                  21                       6  "
      ]
     },
     "execution_count": 7,
     "metadata": {},
     "output_type": "execute_result"
    }
   ],
   "source": [
    "db.tail()"
   ]
  },
  {
   "cell_type": "markdown",
   "metadata": {
    "id": "pB7sVd6jFI-i",
    "slideshow": {
     "slide_type": "slide"
    }
   },
   "source": [
    "Or getting an overview of the table:"
   ]
  },
  {
   "cell_type": "code",
   "execution_count": 8,
   "metadata": {
    "id": "Fqk93NKjFI-i",
    "outputId": "5a86aeea-8374-4d94-b62e-6dd836a033d5",
    "slideshow": {
     "slide_type": "fragment"
    }
   },
   "outputs": [
    {
     "name": "stdout",
     "output_type": "stream",
     "text": [
      "<class 'pandas.core.frame.DataFrame'>\n",
      "Index: 298 entries, E01006512 to E01033768\n",
      "Data columns (total 5 columns):\n",
      " #   Column                          Non-Null Count  Dtype\n",
      "---  ------                          --------------  -----\n",
      " 0   Europe                          298 non-null    int64\n",
      " 1   Africa                          298 non-null    int64\n",
      " 2   Middle East and Asia            298 non-null    int64\n",
      " 3   The Americas and the Caribbean  298 non-null    int64\n",
      " 4   Antarctica and Oceania          298 non-null    int64\n",
      "dtypes: int64(5)\n",
      "memory usage: 14.0+ KB\n"
     ]
    }
   ],
   "source": [
    "db.info()"
   ]
  },
  {
   "cell_type": "markdown",
   "metadata": {
    "id": "BDwB9I2JFI-i",
    "slideshow": {
     "slide_type": "slide"
    }
   },
   "source": [
    "## Calculate summarizing statistics"
   ]
  },
  {
   "cell_type": "markdown",
   "metadata": {
    "id": "TJW2_gRlFI-i",
    "slideshow": {
     "slide_type": "fragment"
    }
   },
   "source": [
    "Summary of variable (columns) *values* in the table:"
   ]
  },
  {
   "cell_type": "code",
   "execution_count": 9,
   "metadata": {
    "id": "ycxwaV9iFI-i",
    "outputId": "f00afb06-3bdf-4343-a99b-cd007a2428e1"
   },
   "outputs": [
    {
     "data": {
      "text/html": [
       "<div>\n",
       "<style scoped>\n",
       "    .dataframe tbody tr th:only-of-type {\n",
       "        vertical-align: middle;\n",
       "    }\n",
       "\n",
       "    .dataframe tbody tr th {\n",
       "        vertical-align: top;\n",
       "    }\n",
       "\n",
       "    .dataframe thead th {\n",
       "        text-align: right;\n",
       "    }\n",
       "</style>\n",
       "<table border=\"1\" class=\"dataframe\">\n",
       "  <thead>\n",
       "    <tr style=\"text-align: right;\">\n",
       "      <th></th>\n",
       "      <th>Europe</th>\n",
       "      <th>Africa</th>\n",
       "      <th>Middle East and Asia</th>\n",
       "      <th>The Americas and the Caribbean</th>\n",
       "      <th>Antarctica and Oceania</th>\n",
       "    </tr>\n",
       "  </thead>\n",
       "  <tbody>\n",
       "    <tr>\n",
       "      <th>count</th>\n",
       "      <td>298.00000</td>\n",
       "      <td>298.000000</td>\n",
       "      <td>298.000000</td>\n",
       "      <td>298.000000</td>\n",
       "      <td>298.000000</td>\n",
       "    </tr>\n",
       "    <tr>\n",
       "      <th>mean</th>\n",
       "      <td>1462.38255</td>\n",
       "      <td>29.818792</td>\n",
       "      <td>62.909396</td>\n",
       "      <td>8.087248</td>\n",
       "      <td>1.949664</td>\n",
       "    </tr>\n",
       "    <tr>\n",
       "      <th>std</th>\n",
       "      <td>248.67329</td>\n",
       "      <td>51.606065</td>\n",
       "      <td>102.519614</td>\n",
       "      <td>9.397638</td>\n",
       "      <td>2.168216</td>\n",
       "    </tr>\n",
       "    <tr>\n",
       "      <th>min</th>\n",
       "      <td>731.00000</td>\n",
       "      <td>0.000000</td>\n",
       "      <td>1.000000</td>\n",
       "      <td>0.000000</td>\n",
       "      <td>0.000000</td>\n",
       "    </tr>\n",
       "    <tr>\n",
       "      <th>25%</th>\n",
       "      <td>1331.25000</td>\n",
       "      <td>7.000000</td>\n",
       "      <td>16.000000</td>\n",
       "      <td>2.000000</td>\n",
       "      <td>0.000000</td>\n",
       "    </tr>\n",
       "    <tr>\n",
       "      <th>50%</th>\n",
       "      <td>1446.00000</td>\n",
       "      <td>14.000000</td>\n",
       "      <td>33.500000</td>\n",
       "      <td>5.000000</td>\n",
       "      <td>1.000000</td>\n",
       "    </tr>\n",
       "    <tr>\n",
       "      <th>75%</th>\n",
       "      <td>1579.75000</td>\n",
       "      <td>30.000000</td>\n",
       "      <td>62.750000</td>\n",
       "      <td>10.000000</td>\n",
       "      <td>3.000000</td>\n",
       "    </tr>\n",
       "    <tr>\n",
       "      <th>max</th>\n",
       "      <td>2551.00000</td>\n",
       "      <td>484.000000</td>\n",
       "      <td>840.000000</td>\n",
       "      <td>61.000000</td>\n",
       "      <td>11.000000</td>\n",
       "    </tr>\n",
       "  </tbody>\n",
       "</table>\n",
       "</div>"
      ],
      "text/plain": [
       "           Europe      Africa  Middle East and Asia  \\\n",
       "count   298.00000  298.000000            298.000000   \n",
       "mean   1462.38255   29.818792             62.909396   \n",
       "std     248.67329   51.606065            102.519614   \n",
       "min     731.00000    0.000000              1.000000   \n",
       "25%    1331.25000    7.000000             16.000000   \n",
       "50%    1446.00000   14.000000             33.500000   \n",
       "75%    1579.75000   30.000000             62.750000   \n",
       "max    2551.00000  484.000000            840.000000   \n",
       "\n",
       "       The Americas and the Caribbean  Antarctica and Oceania  \n",
       "count                      298.000000              298.000000  \n",
       "mean                         8.087248                1.949664  \n",
       "std                          9.397638                2.168216  \n",
       "min                          0.000000                0.000000  \n",
       "25%                          2.000000                0.000000  \n",
       "50%                          5.000000                1.000000  \n",
       "75%                         10.000000                3.000000  \n",
       "max                         61.000000               11.000000  "
      ]
     },
     "execution_count": 9,
     "metadata": {},
     "output_type": "execute_result"
    }
   ],
   "source": [
    "db.describe()"
   ]
  },
  {
   "cell_type": "markdown",
   "metadata": {
    "id": "BDAJHOIYFI-i",
    "slideshow": {
     "slide_type": "slide"
    }
   },
   "source": [
    "Note how the output is also a `DataFrame` object, so you can do with it the same things you would with the original table (e.g. writing it to a file).\n",
    "\n",
    "In this case, the summary might be better presented if the table is \"transposed\":"
   ]
  },
  {
   "cell_type": "code",
   "execution_count": 10,
   "metadata": {
    "id": "qwjDjDjBFI-j",
    "outputId": "5ce6bbec-f45e-4773-cc4f-66bb1973b7ec"
   },
   "outputs": [
    {
     "data": {
      "text/html": [
       "<div>\n",
       "<style scoped>\n",
       "    .dataframe tbody tr th:only-of-type {\n",
       "        vertical-align: middle;\n",
       "    }\n",
       "\n",
       "    .dataframe tbody tr th {\n",
       "        vertical-align: top;\n",
       "    }\n",
       "\n",
       "    .dataframe thead th {\n",
       "        text-align: right;\n",
       "    }\n",
       "</style>\n",
       "<table border=\"1\" class=\"dataframe\">\n",
       "  <thead>\n",
       "    <tr style=\"text-align: right;\">\n",
       "      <th></th>\n",
       "      <th>count</th>\n",
       "      <th>mean</th>\n",
       "      <th>std</th>\n",
       "      <th>min</th>\n",
       "      <th>25%</th>\n",
       "      <th>50%</th>\n",
       "      <th>75%</th>\n",
       "      <th>max</th>\n",
       "    </tr>\n",
       "  </thead>\n",
       "  <tbody>\n",
       "    <tr>\n",
       "      <th>Europe</th>\n",
       "      <td>298.0</td>\n",
       "      <td>1462.382550</td>\n",
       "      <td>248.673290</td>\n",
       "      <td>731.0</td>\n",
       "      <td>1331.25</td>\n",
       "      <td>1446.0</td>\n",
       "      <td>1579.75</td>\n",
       "      <td>2551.0</td>\n",
       "    </tr>\n",
       "    <tr>\n",
       "      <th>Africa</th>\n",
       "      <td>298.0</td>\n",
       "      <td>29.818792</td>\n",
       "      <td>51.606065</td>\n",
       "      <td>0.0</td>\n",
       "      <td>7.00</td>\n",
       "      <td>14.0</td>\n",
       "      <td>30.00</td>\n",
       "      <td>484.0</td>\n",
       "    </tr>\n",
       "    <tr>\n",
       "      <th>Middle East and Asia</th>\n",
       "      <td>298.0</td>\n",
       "      <td>62.909396</td>\n",
       "      <td>102.519614</td>\n",
       "      <td>1.0</td>\n",
       "      <td>16.00</td>\n",
       "      <td>33.5</td>\n",
       "      <td>62.75</td>\n",
       "      <td>840.0</td>\n",
       "    </tr>\n",
       "    <tr>\n",
       "      <th>The Americas and the Caribbean</th>\n",
       "      <td>298.0</td>\n",
       "      <td>8.087248</td>\n",
       "      <td>9.397638</td>\n",
       "      <td>0.0</td>\n",
       "      <td>2.00</td>\n",
       "      <td>5.0</td>\n",
       "      <td>10.00</td>\n",
       "      <td>61.0</td>\n",
       "    </tr>\n",
       "    <tr>\n",
       "      <th>Antarctica and Oceania</th>\n",
       "      <td>298.0</td>\n",
       "      <td>1.949664</td>\n",
       "      <td>2.168216</td>\n",
       "      <td>0.0</td>\n",
       "      <td>0.00</td>\n",
       "      <td>1.0</td>\n",
       "      <td>3.00</td>\n",
       "      <td>11.0</td>\n",
       "    </tr>\n",
       "  </tbody>\n",
       "</table>\n",
       "</div>"
      ],
      "text/plain": [
       "                                count         mean         std    min  \\\n",
       "Europe                          298.0  1462.382550  248.673290  731.0   \n",
       "Africa                          298.0    29.818792   51.606065    0.0   \n",
       "Middle East and Asia            298.0    62.909396  102.519614    1.0   \n",
       "The Americas and the Caribbean  298.0     8.087248    9.397638    0.0   \n",
       "Antarctica and Oceania          298.0     1.949664    2.168216    0.0   \n",
       "\n",
       "                                    25%     50%      75%     max  \n",
       "Europe                          1331.25  1446.0  1579.75  2551.0  \n",
       "Africa                             7.00    14.0    30.00   484.0  \n",
       "Middle East and Asia              16.00    33.5    62.75   840.0  \n",
       "The Americas and the Caribbean     2.00     5.0    10.00    61.0  \n",
       "Antarctica and Oceania             0.00     1.0     3.00    11.0  "
      ]
     },
     "execution_count": 10,
     "metadata": {},
     "output_type": "execute_result"
    }
   ],
   "source": [
    "db.describe().T"
   ]
  },
  {
   "cell_type": "markdown",
   "metadata": {
    "id": "XYMUWZZAFI-j",
    "slideshow": {
     "slide_type": "slide"
    }
   },
   "source": [
    "Equally, common descriptive statistics are also available:"
   ]
  },
  {
   "cell_type": "code",
   "execution_count": 11,
   "metadata": {
    "id": "rmN55ETVFI-j",
    "outputId": "4cc6f60a-578a-4658-c6cd-c6aa965610c0"
   },
   "outputs": [
    {
     "data": {
      "text/plain": [
       "Europe                            731\n",
       "Africa                              0\n",
       "Middle East and Asia                1\n",
       "The Americas and the Caribbean      0\n",
       "Antarctica and Oceania              0\n",
       "dtype: int64"
      ]
     },
     "execution_count": 11,
     "metadata": {},
     "output_type": "execute_result"
    }
   ],
   "source": [
    "# Obtain minimum values for each table\n",
    "db.min()"
   ]
  },
  {
   "cell_type": "code",
   "execution_count": 12,
   "metadata": {
    "id": "woeUGmUIFI-j",
    "outputId": "b8efbb5a-4cd6-4e35-edc1-6f43f0b01b6a"
   },
   "outputs": [
    {
     "data": {
      "text/plain": [
       "731"
      ]
     },
     "execution_count": 12,
     "metadata": {},
     "output_type": "execute_result"
    }
   ],
   "source": [
    "# Obtain minimum value for the column `Europe`\n",
    "db['Europe'].min()"
   ]
  },
  {
   "cell_type": "markdown",
   "metadata": {
    "id": "dBXQt4BKFI-j",
    "slideshow": {
     "slide_type": "slide"
    }
   },
   "source": [
    "Note here how we have restricted the calculation of the maximum value to one column only.\n",
    "\n",
    "Similarly, we can restrict the calculations to a single row:"
   ]
  },
  {
   "cell_type": "code",
   "execution_count": 13,
   "metadata": {
    "id": "L52CgX35FI-j",
    "outputId": "9a0651c6-f492-4094-aa1d-86b92eae6d68"
   },
   "outputs": [
    {
     "data": {
      "text/plain": [
       "457.8842648530303"
      ]
     },
     "execution_count": 13,
     "metadata": {},
     "output_type": "execute_result"
    }
   ],
   "source": [
    "# Obtain standard deviation for the row `E01006512`,\n",
    "# which represents a particular LSOA\n",
    "db.loc['E01006512', :].std()"
   ]
  },
  {
   "cell_type": "markdown",
   "metadata": {
    "id": "m96TLLtAFI-k",
    "slideshow": {
     "slide_type": "slide"
    }
   },
   "source": [
    "\n",
    "### Create new columns\n",
    "\n",
    "We can generate new variables by applying operations on existing ones. For example, we can calculate the total population by area. Here is a couple of ways to do it:"
   ]
  },
  {
   "cell_type": "code",
   "execution_count": 14,
   "metadata": {
    "id": "E_fv8IC2FI-k",
    "outputId": "422e7f8d-e9b5-46de-fd33-2dabf39c208c"
   },
   "outputs": [
    {
     "data": {
      "text/plain": [
       "GeographyCode\n",
       "E01006512    1880\n",
       "E01006513    2941\n",
       "E01006514    2108\n",
       "E01006515    1208\n",
       "E01006518    1696\n",
       "dtype: int64"
      ]
     },
     "execution_count": 14,
     "metadata": {},
     "output_type": "execute_result"
    }
   ],
   "source": [
    "# Longer, hardcoded\n",
    "total = db['Europe'] + db['Africa'] + db['Middle East and Asia'] + \\\n",
    "        db['The Americas and the Caribbean'] + db['Antarctica and Oceania']\n",
    "# Print the top of the variable\n",
    "total.head()"
   ]
  },
  {
   "cell_type": "code",
   "execution_count": 15,
   "metadata": {
    "id": "aU6Ijw-PFI-k",
    "outputId": "0ff20df0-cb36-4c0f-e95d-6207718327f3",
    "slideshow": {
     "slide_type": "slide"
    }
   },
   "outputs": [
    {
     "data": {
      "text/plain": [
       "GeographyCode\n",
       "E01006512    1880\n",
       "E01006513    2941\n",
       "E01006514    2108\n",
       "E01006515    1208\n",
       "E01006518    1696\n",
       "dtype: int64"
      ]
     },
     "execution_count": 15,
     "metadata": {},
     "output_type": "execute_result"
    }
   ],
   "source": [
    "# One shot\n",
    "total = db.sum(axis=1)\n",
    "# Print the top of the variable\n",
    "total.head()"
   ]
  },
  {
   "cell_type": "markdown",
   "metadata": {
    "id": "CVdNibckFI-k"
   },
   "source": [
    "Note how we are using the command `sum`, just like we did with `max` or `min` before but, in this case, we are not applying it over columns (e.g. the max of each column), but over rows, so we get the total sum of populations by areas."
   ]
  },
  {
   "cell_type": "markdown",
   "metadata": {
    "slideshow": {
     "slide_type": "slide"
    }
   },
   "source": [
    "If we want to have the total population by ethnicity, we can sum over the rows by setting the `axis` parameter to zero:"
   ]
  },
  {
   "cell_type": "code",
   "execution_count": 16,
   "metadata": {
    "id": "B09W7IL3FI-k",
    "outputId": "dc5bc3ce-b9a6-47e0-cc66-f224af33f52f",
    "scrolled": true
   },
   "outputs": [
    {
     "data": {
      "text/plain": [
       "Europe                            435790\n",
       "Africa                              8886\n",
       "Middle East and Asia               18747\n",
       "The Americas and the Caribbean      2410\n",
       "Antarctica and Oceania               581\n",
       "dtype: int64"
      ]
     },
     "execution_count": 16,
     "metadata": {},
     "output_type": "execute_result"
    }
   ],
   "source": [
    "db.sum(axis = 0)"
   ]
  },
  {
   "cell_type": "markdown",
   "metadata": {
    "slideshow": {
     "slide_type": "slide"
    }
   },
   "source": [
    "Back to the row-wise population counts. Once we have created the variable, we can make it part of the table:"
   ]
  },
  {
   "cell_type": "code",
   "execution_count": 17,
   "metadata": {
    "id": "T6iWBRakFI-k",
    "outputId": "771050af-2ef2-4bc7-a415-2927809aaa76"
   },
   "outputs": [
    {
     "data": {
      "text/html": [
       "<div>\n",
       "<style scoped>\n",
       "    .dataframe tbody tr th:only-of-type {\n",
       "        vertical-align: middle;\n",
       "    }\n",
       "\n",
       "    .dataframe tbody tr th {\n",
       "        vertical-align: top;\n",
       "    }\n",
       "\n",
       "    .dataframe thead th {\n",
       "        text-align: right;\n",
       "    }\n",
       "</style>\n",
       "<table border=\"1\" class=\"dataframe\">\n",
       "  <thead>\n",
       "    <tr style=\"text-align: right;\">\n",
       "      <th></th>\n",
       "      <th>Europe</th>\n",
       "      <th>Africa</th>\n",
       "      <th>Middle East and Asia</th>\n",
       "      <th>The Americas and the Caribbean</th>\n",
       "      <th>Antarctica and Oceania</th>\n",
       "      <th>Total</th>\n",
       "    </tr>\n",
       "    <tr>\n",
       "      <th>GeographyCode</th>\n",
       "      <th></th>\n",
       "      <th></th>\n",
       "      <th></th>\n",
       "      <th></th>\n",
       "      <th></th>\n",
       "      <th></th>\n",
       "    </tr>\n",
       "  </thead>\n",
       "  <tbody>\n",
       "    <tr>\n",
       "      <th>E01006512</th>\n",
       "      <td>910</td>\n",
       "      <td>106</td>\n",
       "      <td>840</td>\n",
       "      <td>24</td>\n",
       "      <td>0</td>\n",
       "      <td>1880</td>\n",
       "    </tr>\n",
       "    <tr>\n",
       "      <th>E01006513</th>\n",
       "      <td>2225</td>\n",
       "      <td>61</td>\n",
       "      <td>595</td>\n",
       "      <td>53</td>\n",
       "      <td>7</td>\n",
       "      <td>2941</td>\n",
       "    </tr>\n",
       "    <tr>\n",
       "      <th>E01006514</th>\n",
       "      <td>1786</td>\n",
       "      <td>63</td>\n",
       "      <td>193</td>\n",
       "      <td>61</td>\n",
       "      <td>5</td>\n",
       "      <td>2108</td>\n",
       "    </tr>\n",
       "    <tr>\n",
       "      <th>E01006515</th>\n",
       "      <td>974</td>\n",
       "      <td>29</td>\n",
       "      <td>185</td>\n",
       "      <td>18</td>\n",
       "      <td>2</td>\n",
       "      <td>1208</td>\n",
       "    </tr>\n",
       "    <tr>\n",
       "      <th>E01006518</th>\n",
       "      <td>1531</td>\n",
       "      <td>69</td>\n",
       "      <td>73</td>\n",
       "      <td>19</td>\n",
       "      <td>4</td>\n",
       "      <td>1696</td>\n",
       "    </tr>\n",
       "  </tbody>\n",
       "</table>\n",
       "</div>"
      ],
      "text/plain": [
       "               Europe  Africa  Middle East and Asia  \\\n",
       "GeographyCode                                         \n",
       "E01006512         910     106                   840   \n",
       "E01006513        2225      61                   595   \n",
       "E01006514        1786      63                   193   \n",
       "E01006515         974      29                   185   \n",
       "E01006518        1531      69                    73   \n",
       "\n",
       "               The Americas and the Caribbean  Antarctica and Oceania  Total  \n",
       "GeographyCode                                                                 \n",
       "E01006512                                  24                       0   1880  \n",
       "E01006513                                  53                       7   2941  \n",
       "E01006514                                  61                       5   2108  \n",
       "E01006515                                  18                       2   1208  \n",
       "E01006518                                  19                       4   1696  "
      ]
     },
     "execution_count": 17,
     "metadata": {},
     "output_type": "execute_result"
    }
   ],
   "source": [
    "db['Total'] = total\n",
    "db.head()"
   ]
  },
  {
   "cell_type": "markdown",
   "metadata": {
    "slideshow": {
     "slide_type": "slide"
    }
   },
   "source": [
    "## Generating new variables (columns)"
   ]
  },
  {
   "cell_type": "markdown",
   "metadata": {
    "id": "3zXsw8ELFI-k"
   },
   "source": [
    "A different spin on this is assigning new values: we can generate new variables with scalars, and modify those:"
   ]
  },
  {
   "cell_type": "code",
   "execution_count": 18,
   "metadata": {
    "id": "gVB3koS8FI-l",
    "outputId": "ef4591aa-3d80-4d83-d741-ec2453e3724f"
   },
   "outputs": [
    {
     "data": {
      "text/html": [
       "<div>\n",
       "<style scoped>\n",
       "    .dataframe tbody tr th:only-of-type {\n",
       "        vertical-align: middle;\n",
       "    }\n",
       "\n",
       "    .dataframe tbody tr th {\n",
       "        vertical-align: top;\n",
       "    }\n",
       "\n",
       "    .dataframe thead th {\n",
       "        text-align: right;\n",
       "    }\n",
       "</style>\n",
       "<table border=\"1\" class=\"dataframe\">\n",
       "  <thead>\n",
       "    <tr style=\"text-align: right;\">\n",
       "      <th></th>\n",
       "      <th>Europe</th>\n",
       "      <th>Africa</th>\n",
       "      <th>Middle East and Asia</th>\n",
       "      <th>The Americas and the Caribbean</th>\n",
       "      <th>Antarctica and Oceania</th>\n",
       "      <th>Total</th>\n",
       "      <th>ones</th>\n",
       "    </tr>\n",
       "    <tr>\n",
       "      <th>GeographyCode</th>\n",
       "      <th></th>\n",
       "      <th></th>\n",
       "      <th></th>\n",
       "      <th></th>\n",
       "      <th></th>\n",
       "      <th></th>\n",
       "      <th></th>\n",
       "    </tr>\n",
       "  </thead>\n",
       "  <tbody>\n",
       "    <tr>\n",
       "      <th>E01006512</th>\n",
       "      <td>910</td>\n",
       "      <td>106</td>\n",
       "      <td>840</td>\n",
       "      <td>24</td>\n",
       "      <td>0</td>\n",
       "      <td>1880</td>\n",
       "      <td>1</td>\n",
       "    </tr>\n",
       "    <tr>\n",
       "      <th>E01006513</th>\n",
       "      <td>2225</td>\n",
       "      <td>61</td>\n",
       "      <td>595</td>\n",
       "      <td>53</td>\n",
       "      <td>7</td>\n",
       "      <td>2941</td>\n",
       "      <td>1</td>\n",
       "    </tr>\n",
       "    <tr>\n",
       "      <th>E01006514</th>\n",
       "      <td>1786</td>\n",
       "      <td>63</td>\n",
       "      <td>193</td>\n",
       "      <td>61</td>\n",
       "      <td>5</td>\n",
       "      <td>2108</td>\n",
       "      <td>1</td>\n",
       "    </tr>\n",
       "    <tr>\n",
       "      <th>E01006515</th>\n",
       "      <td>974</td>\n",
       "      <td>29</td>\n",
       "      <td>185</td>\n",
       "      <td>18</td>\n",
       "      <td>2</td>\n",
       "      <td>1208</td>\n",
       "      <td>1</td>\n",
       "    </tr>\n",
       "    <tr>\n",
       "      <th>E01006518</th>\n",
       "      <td>1531</td>\n",
       "      <td>69</td>\n",
       "      <td>73</td>\n",
       "      <td>19</td>\n",
       "      <td>4</td>\n",
       "      <td>1696</td>\n",
       "      <td>1</td>\n",
       "    </tr>\n",
       "  </tbody>\n",
       "</table>\n",
       "</div>"
      ],
      "text/plain": [
       "               Europe  Africa  Middle East and Asia  \\\n",
       "GeographyCode                                         \n",
       "E01006512         910     106                   840   \n",
       "E01006513        2225      61                   595   \n",
       "E01006514        1786      63                   193   \n",
       "E01006515         974      29                   185   \n",
       "E01006518        1531      69                    73   \n",
       "\n",
       "               The Americas and the Caribbean  Antarctica and Oceania  Total  \\\n",
       "GeographyCode                                                                  \n",
       "E01006512                                  24                       0   1880   \n",
       "E01006513                                  53                       7   2941   \n",
       "E01006514                                  61                       5   2108   \n",
       "E01006515                                  18                       2   1208   \n",
       "E01006518                                  19                       4   1696   \n",
       "\n",
       "               ones  \n",
       "GeographyCode        \n",
       "E01006512         1  \n",
       "E01006513         1  \n",
       "E01006514         1  \n",
       "E01006515         1  \n",
       "E01006518         1  "
      ]
     },
     "execution_count": 18,
     "metadata": {},
     "output_type": "execute_result"
    }
   ],
   "source": [
    "# New variable with all ones\n",
    "db['ones'] = 1\n",
    "db.head()"
   ]
  },
  {
   "cell_type": "markdown",
   "metadata": {
    "id": "934_mJFfFI-o",
    "slideshow": {
     "slide_type": "slide"
    }
   },
   "source": [
    "And we can modify specific values too:"
   ]
  },
  {
   "cell_type": "code",
   "execution_count": 19,
   "metadata": {
    "id": "9vAZKmPaFI-o",
    "outputId": "374fd3a1-ec42-4a61-9c72-c728961b615b"
   },
   "outputs": [
    {
     "data": {
      "text/html": [
       "<div>\n",
       "<style scoped>\n",
       "    .dataframe tbody tr th:only-of-type {\n",
       "        vertical-align: middle;\n",
       "    }\n",
       "\n",
       "    .dataframe tbody tr th {\n",
       "        vertical-align: top;\n",
       "    }\n",
       "\n",
       "    .dataframe thead th {\n",
       "        text-align: right;\n",
       "    }\n",
       "</style>\n",
       "<table border=\"1\" class=\"dataframe\">\n",
       "  <thead>\n",
       "    <tr style=\"text-align: right;\">\n",
       "      <th></th>\n",
       "      <th>Europe</th>\n",
       "      <th>Africa</th>\n",
       "      <th>Middle East and Asia</th>\n",
       "      <th>The Americas and the Caribbean</th>\n",
       "      <th>Antarctica and Oceania</th>\n",
       "      <th>Total</th>\n",
       "      <th>ones</th>\n",
       "    </tr>\n",
       "    <tr>\n",
       "      <th>GeographyCode</th>\n",
       "      <th></th>\n",
       "      <th></th>\n",
       "      <th></th>\n",
       "      <th></th>\n",
       "      <th></th>\n",
       "      <th></th>\n",
       "      <th></th>\n",
       "    </tr>\n",
       "  </thead>\n",
       "  <tbody>\n",
       "    <tr>\n",
       "      <th>E01006512</th>\n",
       "      <td>910</td>\n",
       "      <td>106</td>\n",
       "      <td>840</td>\n",
       "      <td>24</td>\n",
       "      <td>0</td>\n",
       "      <td>1880</td>\n",
       "      <td>3</td>\n",
       "    </tr>\n",
       "    <tr>\n",
       "      <th>E01006513</th>\n",
       "      <td>2225</td>\n",
       "      <td>61</td>\n",
       "      <td>595</td>\n",
       "      <td>53</td>\n",
       "      <td>7</td>\n",
       "      <td>2941</td>\n",
       "      <td>1</td>\n",
       "    </tr>\n",
       "    <tr>\n",
       "      <th>E01006514</th>\n",
       "      <td>1786</td>\n",
       "      <td>63</td>\n",
       "      <td>193</td>\n",
       "      <td>61</td>\n",
       "      <td>5</td>\n",
       "      <td>2108</td>\n",
       "      <td>1</td>\n",
       "    </tr>\n",
       "    <tr>\n",
       "      <th>E01006515</th>\n",
       "      <td>974</td>\n",
       "      <td>29</td>\n",
       "      <td>185</td>\n",
       "      <td>18</td>\n",
       "      <td>2</td>\n",
       "      <td>1208</td>\n",
       "      <td>1</td>\n",
       "    </tr>\n",
       "    <tr>\n",
       "      <th>E01006518</th>\n",
       "      <td>1531</td>\n",
       "      <td>69</td>\n",
       "      <td>73</td>\n",
       "      <td>19</td>\n",
       "      <td>4</td>\n",
       "      <td>1696</td>\n",
       "      <td>1</td>\n",
       "    </tr>\n",
       "  </tbody>\n",
       "</table>\n",
       "</div>"
      ],
      "text/plain": [
       "               Europe  Africa  Middle East and Asia  \\\n",
       "GeographyCode                                         \n",
       "E01006512         910     106                   840   \n",
       "E01006513        2225      61                   595   \n",
       "E01006514        1786      63                   193   \n",
       "E01006515         974      29                   185   \n",
       "E01006518        1531      69                    73   \n",
       "\n",
       "               The Americas and the Caribbean  Antarctica and Oceania  Total  \\\n",
       "GeographyCode                                                                  \n",
       "E01006512                                  24                       0   1880   \n",
       "E01006513                                  53                       7   2941   \n",
       "E01006514                                  61                       5   2108   \n",
       "E01006515                                  18                       2   1208   \n",
       "E01006518                                  19                       4   1696   \n",
       "\n",
       "               ones  \n",
       "GeographyCode        \n",
       "E01006512         3  \n",
       "E01006513         1  \n",
       "E01006514         1  \n",
       "E01006515         1  \n",
       "E01006518         1  "
      ]
     },
     "execution_count": 19,
     "metadata": {},
     "output_type": "execute_result"
    }
   ],
   "source": [
    "db.loc['E01006512', 'ones'] = 3\n",
    "db.head()"
   ]
  },
  {
   "cell_type": "markdown",
   "metadata": {
    "id": "Klyr7L1nFI-o",
    "slideshow": {
     "slide_type": "slide"
    }
   },
   "source": [
    "### Delete columns\n",
    "\n",
    "Permanently deleting variables is also within reach of one command:"
   ]
  },
  {
   "cell_type": "code",
   "execution_count": 20,
   "metadata": {
    "id": "HU6ktKq8FI-o",
    "outputId": "022fb349-7d75-44dc-c841-c63f7c5178f0"
   },
   "outputs": [
    {
     "data": {
      "text/html": [
       "<div>\n",
       "<style scoped>\n",
       "    .dataframe tbody tr th:only-of-type {\n",
       "        vertical-align: middle;\n",
       "    }\n",
       "\n",
       "    .dataframe tbody tr th {\n",
       "        vertical-align: top;\n",
       "    }\n",
       "\n",
       "    .dataframe thead th {\n",
       "        text-align: right;\n",
       "    }\n",
       "</style>\n",
       "<table border=\"1\" class=\"dataframe\">\n",
       "  <thead>\n",
       "    <tr style=\"text-align: right;\">\n",
       "      <th></th>\n",
       "      <th>Europe</th>\n",
       "      <th>Africa</th>\n",
       "      <th>Middle East and Asia</th>\n",
       "      <th>The Americas and the Caribbean</th>\n",
       "      <th>Antarctica and Oceania</th>\n",
       "      <th>Total</th>\n",
       "    </tr>\n",
       "    <tr>\n",
       "      <th>GeographyCode</th>\n",
       "      <th></th>\n",
       "      <th></th>\n",
       "      <th></th>\n",
       "      <th></th>\n",
       "      <th></th>\n",
       "      <th></th>\n",
       "    </tr>\n",
       "  </thead>\n",
       "  <tbody>\n",
       "    <tr>\n",
       "      <th>E01006512</th>\n",
       "      <td>910</td>\n",
       "      <td>106</td>\n",
       "      <td>840</td>\n",
       "      <td>24</td>\n",
       "      <td>0</td>\n",
       "      <td>1880</td>\n",
       "    </tr>\n",
       "    <tr>\n",
       "      <th>E01006513</th>\n",
       "      <td>2225</td>\n",
       "      <td>61</td>\n",
       "      <td>595</td>\n",
       "      <td>53</td>\n",
       "      <td>7</td>\n",
       "      <td>2941</td>\n",
       "    </tr>\n",
       "    <tr>\n",
       "      <th>E01006514</th>\n",
       "      <td>1786</td>\n",
       "      <td>63</td>\n",
       "      <td>193</td>\n",
       "      <td>61</td>\n",
       "      <td>5</td>\n",
       "      <td>2108</td>\n",
       "    </tr>\n",
       "    <tr>\n",
       "      <th>E01006515</th>\n",
       "      <td>974</td>\n",
       "      <td>29</td>\n",
       "      <td>185</td>\n",
       "      <td>18</td>\n",
       "      <td>2</td>\n",
       "      <td>1208</td>\n",
       "    </tr>\n",
       "    <tr>\n",
       "      <th>E01006518</th>\n",
       "      <td>1531</td>\n",
       "      <td>69</td>\n",
       "      <td>73</td>\n",
       "      <td>19</td>\n",
       "      <td>4</td>\n",
       "      <td>1696</td>\n",
       "    </tr>\n",
       "  </tbody>\n",
       "</table>\n",
       "</div>"
      ],
      "text/plain": [
       "               Europe  Africa  Middle East and Asia  \\\n",
       "GeographyCode                                         \n",
       "E01006512         910     106                   840   \n",
       "E01006513        2225      61                   595   \n",
       "E01006514        1786      63                   193   \n",
       "E01006515         974      29                   185   \n",
       "E01006518        1531      69                    73   \n",
       "\n",
       "               The Americas and the Caribbean  Antarctica and Oceania  Total  \n",
       "GeographyCode                                                                 \n",
       "E01006512                                  24                       0   1880  \n",
       "E01006513                                  53                       7   2941  \n",
       "E01006514                                  61                       5   2108  \n",
       "E01006515                                  18                       2   1208  \n",
       "E01006518                                  19                       4   1696  "
      ]
     },
     "execution_count": 20,
     "metadata": {},
     "output_type": "execute_result"
    }
   ],
   "source": [
    "del db['ones']\n",
    "db.head()"
   ]
  },
  {
   "cell_type": "markdown",
   "metadata": {
    "id": "_8GPBcr7FI-o",
    "slideshow": {
     "slide_type": "slide"
    }
   },
   "source": [
    "### Index-based queries\n",
    "\n",
    "Here we explore how we can subset parts of a `DataFrame` if we know exactly which bits we want. For example, if we want to extract the total and European population of the first four areas in the table, we use `loc` with lists:"
   ]
  },
  {
   "cell_type": "code",
   "execution_count": 21,
   "metadata": {
    "id": "8S5Mty5pFI-o",
    "outputId": "24050d96-04b6-4221-aac2-a5e280a39510"
   },
   "outputs": [
    {
     "data": {
      "text/html": [
       "<div>\n",
       "<style scoped>\n",
       "    .dataframe tbody tr th:only-of-type {\n",
       "        vertical-align: middle;\n",
       "    }\n",
       "\n",
       "    .dataframe tbody tr th {\n",
       "        vertical-align: top;\n",
       "    }\n",
       "\n",
       "    .dataframe thead th {\n",
       "        text-align: right;\n",
       "    }\n",
       "</style>\n",
       "<table border=\"1\" class=\"dataframe\">\n",
       "  <thead>\n",
       "    <tr style=\"text-align: right;\">\n",
       "      <th></th>\n",
       "      <th>Total</th>\n",
       "      <th>Europe</th>\n",
       "    </tr>\n",
       "    <tr>\n",
       "      <th>GeographyCode</th>\n",
       "      <th></th>\n",
       "      <th></th>\n",
       "    </tr>\n",
       "  </thead>\n",
       "  <tbody>\n",
       "    <tr>\n",
       "      <th>E01006512</th>\n",
       "      <td>1880</td>\n",
       "      <td>910</td>\n",
       "    </tr>\n",
       "    <tr>\n",
       "      <th>E01006513</th>\n",
       "      <td>2941</td>\n",
       "      <td>2225</td>\n",
       "    </tr>\n",
       "    <tr>\n",
       "      <th>E01006514</th>\n",
       "      <td>2108</td>\n",
       "      <td>1786</td>\n",
       "    </tr>\n",
       "    <tr>\n",
       "      <th>E01006515</th>\n",
       "      <td>1208</td>\n",
       "      <td>974</td>\n",
       "    </tr>\n",
       "  </tbody>\n",
       "</table>\n",
       "</div>"
      ],
      "text/plain": [
       "               Total  Europe\n",
       "GeographyCode               \n",
       "E01006512       1880     910\n",
       "E01006513       2941    2225\n",
       "E01006514       2108    1786\n",
       "E01006515       1208     974"
      ]
     },
     "execution_count": 21,
     "metadata": {},
     "output_type": "execute_result"
    }
   ],
   "source": [
    "eu_tot_first4 = db.loc[['E01006512', 'E01006513', 'E01006514', 'E01006515'], \\\n",
    "                      ['Total', 'Europe']]\n",
    "eu_tot_first4"
   ]
  },
  {
   "cell_type": "markdown",
   "metadata": {
    "id": "SuZztFMKFI-p",
    "slideshow": {
     "slide_type": "slide"
    }
   },
   "source": [
    "Note that we use squared brackets (`[]`) to delineate the index of the items we want to subset. In Python, this sequence of items is called a list. Hence we can see how we can create a list with the names (index IDs) along each of the two dimensions of a `DataFrame` (rows and columns), and `loc` will return a subset of the original table *only* with the elements queried for.\n"
   ]
  },
  {
   "cell_type": "markdown",
   "metadata": {
    "slideshow": {
     "slide_type": "slide"
    }
   },
   "source": [
    "An alternative to list-based queries is what is called \"range-based\" queries. These work on the indices of the table but, instead of requiring the ID of each item we want to retrieve, the operate by requiring only two IDs: the first and last element in a *range* of items. Range queries are expressed with a colon (`:`). For example:"
   ]
  },
  {
   "cell_type": "code",
   "execution_count": 22,
   "metadata": {
    "id": "MnDdAWxrFI-p",
    "outputId": "c53ce46e-1321-468a-f63e-279d87d00dc1"
   },
   "outputs": [
    {
     "data": {
      "text/html": [
       "<div>\n",
       "<style scoped>\n",
       "    .dataframe tbody tr th:only-of-type {\n",
       "        vertical-align: middle;\n",
       "    }\n",
       "\n",
       "    .dataframe tbody tr th {\n",
       "        vertical-align: top;\n",
       "    }\n",
       "\n",
       "    .dataframe thead th {\n",
       "        text-align: right;\n",
       "    }\n",
       "</style>\n",
       "<table border=\"1\" class=\"dataframe\">\n",
       "  <thead>\n",
       "    <tr style=\"text-align: right;\">\n",
       "      <th></th>\n",
       "      <th>Europe</th>\n",
       "      <th>Africa</th>\n",
       "      <th>Middle East and Asia</th>\n",
       "      <th>The Americas and the Caribbean</th>\n",
       "      <th>Antarctica and Oceania</th>\n",
       "    </tr>\n",
       "    <tr>\n",
       "      <th>GeographyCode</th>\n",
       "      <th></th>\n",
       "      <th></th>\n",
       "      <th></th>\n",
       "      <th></th>\n",
       "      <th></th>\n",
       "    </tr>\n",
       "  </thead>\n",
       "  <tbody>\n",
       "    <tr>\n",
       "      <th>E01006514</th>\n",
       "      <td>1786</td>\n",
       "      <td>63</td>\n",
       "      <td>193</td>\n",
       "      <td>61</td>\n",
       "      <td>5</td>\n",
       "    </tr>\n",
       "    <tr>\n",
       "      <th>E01006515</th>\n",
       "      <td>974</td>\n",
       "      <td>29</td>\n",
       "      <td>185</td>\n",
       "      <td>18</td>\n",
       "      <td>2</td>\n",
       "    </tr>\n",
       "    <tr>\n",
       "      <th>E01006518</th>\n",
       "      <td>1531</td>\n",
       "      <td>69</td>\n",
       "      <td>73</td>\n",
       "      <td>19</td>\n",
       "      <td>4</td>\n",
       "    </tr>\n",
       "  </tbody>\n",
       "</table>\n",
       "</div>"
      ],
      "text/plain": [
       "               Europe  Africa  Middle East and Asia  \\\n",
       "GeographyCode                                         \n",
       "E01006514        1786      63                   193   \n",
       "E01006515         974      29                   185   \n",
       "E01006518        1531      69                    73   \n",
       "\n",
       "               The Americas and the Caribbean  Antarctica and Oceania  \n",
       "GeographyCode                                                          \n",
       "E01006514                                  61                       5  \n",
       "E01006515                                  18                       2  \n",
       "E01006518                                  19                       4  "
      ]
     },
     "execution_count": 22,
     "metadata": {},
     "output_type": "execute_result"
    }
   ],
   "source": [
    "range_qry = db.loc[\"E01006514\":\"E01006518\", \"Europe\":\"Antarctica and Oceania\"]\n",
    "range_qry"
   ]
  },
  {
   "cell_type": "markdown",
   "metadata": {
    "id": "sTUc5jKrFI-p"
   },
   "source": [
    "We see how the range query picks up *all* the elements in between the two IDs specificed. Note that, for this to work, the first ID in the range needs to be placed *before* the second one in the table's index."
   ]
  },
  {
   "cell_type": "markdown",
   "metadata": {
    "slideshow": {
     "slide_type": "slide"
    }
   },
   "source": [
    "Once we know about list and range based queries, we can combine them both! For example, we can specify a range of rows and a list of columns:"
   ]
  },
  {
   "cell_type": "code",
   "execution_count": 23,
   "metadata": {
    "id": "aLPQuolUFI-p",
    "outputId": "48752cc3-9e47-48a3-8270-0f022368ef3f"
   },
   "outputs": [
    {
     "data": {
      "text/html": [
       "<div>\n",
       "<style scoped>\n",
       "    .dataframe tbody tr th:only-of-type {\n",
       "        vertical-align: middle;\n",
       "    }\n",
       "\n",
       "    .dataframe tbody tr th {\n",
       "        vertical-align: top;\n",
       "    }\n",
       "\n",
       "    .dataframe thead th {\n",
       "        text-align: right;\n",
       "    }\n",
       "</style>\n",
       "<table border=\"1\" class=\"dataframe\">\n",
       "  <thead>\n",
       "    <tr style=\"text-align: right;\">\n",
       "      <th></th>\n",
       "      <th>Europe</th>\n",
       "      <th>Total</th>\n",
       "    </tr>\n",
       "    <tr>\n",
       "      <th>GeographyCode</th>\n",
       "      <th></th>\n",
       "      <th></th>\n",
       "    </tr>\n",
       "  </thead>\n",
       "  <tbody>\n",
       "    <tr>\n",
       "      <th>E01006514</th>\n",
       "      <td>1786</td>\n",
       "      <td>2108</td>\n",
       "    </tr>\n",
       "    <tr>\n",
       "      <th>E01006515</th>\n",
       "      <td>974</td>\n",
       "      <td>1208</td>\n",
       "    </tr>\n",
       "    <tr>\n",
       "      <th>E01006518</th>\n",
       "      <td>1531</td>\n",
       "      <td>1696</td>\n",
       "    </tr>\n",
       "  </tbody>\n",
       "</table>\n",
       "</div>"
      ],
      "text/plain": [
       "               Europe  Total\n",
       "GeographyCode               \n",
       "E01006514        1786   2108\n",
       "E01006515         974   1208\n",
       "E01006518        1531   1696"
      ]
     },
     "execution_count": 23,
     "metadata": {},
     "output_type": "execute_result"
    }
   ],
   "source": [
    "range_list_qry = db.loc[\"E01006514\":\"E01006518\", [\"Europe\", \"Total\"]]\n",
    "range_list_qry"
   ]
  },
  {
   "cell_type": "markdown",
   "metadata": {
    "id": "Xo8Zh_fwFI-p",
    "slideshow": {
     "slide_type": "slide"
    }
   },
   "source": [
    "### Condition-based queries\n"
   ]
  },
  {
   "cell_type": "markdown",
   "metadata": {
    "id": "AG2HYHp8FI-p",
    "slideshow": {
     "slide_type": "skip"
    }
   },
   "source": [
    "However, sometimes, we do not know exactly which observations we want, but we do know what conditions they need to satisfy (e.g. areas with more than 2,500 inhabitants). For these cases, `DataFrames` support selection based on conditions. Let us see a few examples. Suppose we want to select...\n"
   ]
  },
  {
   "cell_type": "markdown",
   "metadata": {
    "id": "VNWRYNZpFI-p"
   },
   "source": [
    "Select areas with more than 2,500 people in Total:"
   ]
  },
  {
   "cell_type": "code",
   "execution_count": 24,
   "metadata": {
    "id": "yD55INS3FI-p",
    "outputId": "f55d0010-7e5b-4937-f157-bbde37a0543d"
   },
   "outputs": [
    {
     "data": {
      "text/html": [
       "<div>\n",
       "<style scoped>\n",
       "    .dataframe tbody tr th:only-of-type {\n",
       "        vertical-align: middle;\n",
       "    }\n",
       "\n",
       "    .dataframe tbody tr th {\n",
       "        vertical-align: top;\n",
       "    }\n",
       "\n",
       "    .dataframe thead th {\n",
       "        text-align: right;\n",
       "    }\n",
       "</style>\n",
       "<table border=\"1\" class=\"dataframe\">\n",
       "  <thead>\n",
       "    <tr style=\"text-align: right;\">\n",
       "      <th></th>\n",
       "      <th>Europe</th>\n",
       "      <th>Africa</th>\n",
       "      <th>Middle East and Asia</th>\n",
       "      <th>The Americas and the Caribbean</th>\n",
       "      <th>Antarctica and Oceania</th>\n",
       "      <th>Total</th>\n",
       "    </tr>\n",
       "    <tr>\n",
       "      <th>GeographyCode</th>\n",
       "      <th></th>\n",
       "      <th></th>\n",
       "      <th></th>\n",
       "      <th></th>\n",
       "      <th></th>\n",
       "      <th></th>\n",
       "    </tr>\n",
       "  </thead>\n",
       "  <tbody>\n",
       "    <tr>\n",
       "      <th>E01006513</th>\n",
       "      <td>2225</td>\n",
       "      <td>61</td>\n",
       "      <td>595</td>\n",
       "      <td>53</td>\n",
       "      <td>7</td>\n",
       "      <td>2941</td>\n",
       "    </tr>\n",
       "    <tr>\n",
       "      <th>E01006747</th>\n",
       "      <td>2551</td>\n",
       "      <td>163</td>\n",
       "      <td>812</td>\n",
       "      <td>24</td>\n",
       "      <td>2</td>\n",
       "      <td>3552</td>\n",
       "    </tr>\n",
       "    <tr>\n",
       "      <th>E01006751</th>\n",
       "      <td>1843</td>\n",
       "      <td>139</td>\n",
       "      <td>568</td>\n",
       "      <td>21</td>\n",
       "      <td>1</td>\n",
       "      <td>2572</td>\n",
       "    </tr>\n",
       "  </tbody>\n",
       "</table>\n",
       "</div>"
      ],
      "text/plain": [
       "               Europe  Africa  Middle East and Asia  \\\n",
       "GeographyCode                                         \n",
       "E01006513        2225      61                   595   \n",
       "E01006747        2551     163                   812   \n",
       "E01006751        1843     139                   568   \n",
       "\n",
       "               The Americas and the Caribbean  Antarctica and Oceania  Total  \n",
       "GeographyCode                                                                 \n",
       "E01006513                                  53                       7   2941  \n",
       "E01006747                                  24                       2   3552  \n",
       "E01006751                                  21                       1   2572  "
      ]
     },
     "execution_count": 24,
     "metadata": {},
     "output_type": "execute_result"
    }
   ],
   "source": [
    "m5k = db.loc[db['Total'] > 2500, : ]\n",
    "m5k"
   ]
  },
  {
   "cell_type": "markdown",
   "metadata": {
    "id": "AdlsfYSuFI-p",
    "slideshow": {
     "slide_type": "slide"
    }
   },
   "source": [
    "*... areas where there are no more than 750 Europeans*:"
   ]
  },
  {
   "cell_type": "code",
   "execution_count": 25,
   "metadata": {
    "id": "jDak46GBFI-p",
    "outputId": "7da1ecd8-05e7-4e39-ac64-e88d59e89d0c"
   },
   "outputs": [
    {
     "data": {
      "text/html": [
       "<div>\n",
       "<style scoped>\n",
       "    .dataframe tbody tr th:only-of-type {\n",
       "        vertical-align: middle;\n",
       "    }\n",
       "\n",
       "    .dataframe tbody tr th {\n",
       "        vertical-align: top;\n",
       "    }\n",
       "\n",
       "    .dataframe thead th {\n",
       "        text-align: right;\n",
       "    }\n",
       "</style>\n",
       "<table border=\"1\" class=\"dataframe\">\n",
       "  <thead>\n",
       "    <tr style=\"text-align: right;\">\n",
       "      <th></th>\n",
       "      <th>Europe</th>\n",
       "      <th>Africa</th>\n",
       "      <th>Middle East and Asia</th>\n",
       "      <th>The Americas and the Caribbean</th>\n",
       "      <th>Antarctica and Oceania</th>\n",
       "      <th>Total</th>\n",
       "    </tr>\n",
       "    <tr>\n",
       "      <th>GeographyCode</th>\n",
       "      <th></th>\n",
       "      <th></th>\n",
       "      <th></th>\n",
       "      <th></th>\n",
       "      <th></th>\n",
       "      <th></th>\n",
       "    </tr>\n",
       "  </thead>\n",
       "  <tbody>\n",
       "    <tr>\n",
       "      <th>E01033757</th>\n",
       "      <td>731</td>\n",
       "      <td>39</td>\n",
       "      <td>223</td>\n",
       "      <td>29</td>\n",
       "      <td>3</td>\n",
       "      <td>1025</td>\n",
       "    </tr>\n",
       "  </tbody>\n",
       "</table>\n",
       "</div>"
      ],
      "text/plain": [
       "               Europe  Africa  Middle East and Asia  \\\n",
       "GeographyCode                                         \n",
       "E01033757         731      39                   223   \n",
       "\n",
       "               The Americas and the Caribbean  Antarctica and Oceania  Total  \n",
       "GeographyCode                                                                 \n",
       "E01033757                                  29                       3   1025  "
      ]
     },
     "execution_count": 25,
     "metadata": {},
     "output_type": "execute_result"
    }
   ],
   "source": [
    "nm5ke = db.loc[db['Europe'] < 750, :]\n",
    "nm5ke"
   ]
  },
  {
   "cell_type": "markdown",
   "metadata": {
    "id": "GNUShaG0FI-p",
    "slideshow": {
     "slide_type": "slide"
    }
   },
   "source": [
    "*... areas with exactly ten person from Antarctica and Oceania*:"
   ]
  },
  {
   "cell_type": "code",
   "execution_count": 26,
   "metadata": {
    "id": "vQAf1lyjFI-q",
    "outputId": "171ed16d-f29a-4384-9d7b-b0f8d33fa5eb"
   },
   "outputs": [
    {
     "data": {
      "text/html": [
       "<div>\n",
       "<style scoped>\n",
       "    .dataframe tbody tr th:only-of-type {\n",
       "        vertical-align: middle;\n",
       "    }\n",
       "\n",
       "    .dataframe tbody tr th {\n",
       "        vertical-align: top;\n",
       "    }\n",
       "\n",
       "    .dataframe thead th {\n",
       "        text-align: right;\n",
       "    }\n",
       "</style>\n",
       "<table border=\"1\" class=\"dataframe\">\n",
       "  <thead>\n",
       "    <tr style=\"text-align: right;\">\n",
       "      <th></th>\n",
       "      <th>Europe</th>\n",
       "      <th>Africa</th>\n",
       "      <th>Middle East and Asia</th>\n",
       "      <th>The Americas and the Caribbean</th>\n",
       "      <th>Antarctica and Oceania</th>\n",
       "      <th>Total</th>\n",
       "    </tr>\n",
       "    <tr>\n",
       "      <th>GeographyCode</th>\n",
       "      <th></th>\n",
       "      <th></th>\n",
       "      <th></th>\n",
       "      <th></th>\n",
       "      <th></th>\n",
       "      <th></th>\n",
       "    </tr>\n",
       "  </thead>\n",
       "  <tbody>\n",
       "    <tr>\n",
       "      <th>E01006679</th>\n",
       "      <td>1353</td>\n",
       "      <td>484</td>\n",
       "      <td>354</td>\n",
       "      <td>31</td>\n",
       "      <td>10</td>\n",
       "      <td>2232</td>\n",
       "    </tr>\n",
       "  </tbody>\n",
       "</table>\n",
       "</div>"
      ],
      "text/plain": [
       "               Europe  Africa  Middle East and Asia  \\\n",
       "GeographyCode                                         \n",
       "E01006679        1353     484                   354   \n",
       "\n",
       "               The Americas and the Caribbean  Antarctica and Oceania  Total  \n",
       "GeographyCode                                                                 \n",
       "E01006679                                  31                      10   2232  "
      ]
     },
     "execution_count": 26,
     "metadata": {},
     "output_type": "execute_result"
    }
   ],
   "source": [
    "oneOA = db.loc[db['Antarctica and Oceania'] == 10, :]\n",
    "oneOA"
   ]
  },
  {
   "cell_type": "markdown",
   "metadata": {
    "id": "7xRuYf1zFI-q",
    "slideshow": {
     "slide_type": "slide"
    }
   },
   "source": [
    "**Pro-tip**: these queries can grow in sophistication with almost no limits. For example, here is a case where we want to find out the areas where European population is smaller than 50%:"
   ]
  },
  {
   "cell_type": "code",
   "execution_count": 27,
   "metadata": {
    "id": "sNI5RQEfFI-q",
    "outputId": "c71998cd-2f7b-4301-dbf7-d4a6d247202b"
   },
   "outputs": [
    {
     "data": {
      "text/html": [
       "<div>\n",
       "<style scoped>\n",
       "    .dataframe tbody tr th:only-of-type {\n",
       "        vertical-align: middle;\n",
       "    }\n",
       "\n",
       "    .dataframe tbody tr th {\n",
       "        vertical-align: top;\n",
       "    }\n",
       "\n",
       "    .dataframe thead th {\n",
       "        text-align: right;\n",
       "    }\n",
       "</style>\n",
       "<table border=\"1\" class=\"dataframe\">\n",
       "  <thead>\n",
       "    <tr style=\"text-align: right;\">\n",
       "      <th></th>\n",
       "      <th>Europe</th>\n",
       "      <th>Africa</th>\n",
       "      <th>Middle East and Asia</th>\n",
       "      <th>The Americas and the Caribbean</th>\n",
       "      <th>Antarctica and Oceania</th>\n",
       "      <th>Total</th>\n",
       "    </tr>\n",
       "    <tr>\n",
       "      <th>GeographyCode</th>\n",
       "      <th></th>\n",
       "      <th></th>\n",
       "      <th></th>\n",
       "      <th></th>\n",
       "      <th></th>\n",
       "      <th></th>\n",
       "    </tr>\n",
       "  </thead>\n",
       "  <tbody>\n",
       "    <tr>\n",
       "      <th>E01006512</th>\n",
       "      <td>910</td>\n",
       "      <td>106</td>\n",
       "      <td>840</td>\n",
       "      <td>24</td>\n",
       "      <td>0</td>\n",
       "      <td>1880</td>\n",
       "    </tr>\n",
       "  </tbody>\n",
       "</table>\n",
       "</div>"
      ],
      "text/plain": [
       "               Europe  Africa  Middle East and Asia  \\\n",
       "GeographyCode                                         \n",
       "E01006512         910     106                   840   \n",
       "\n",
       "               The Americas and the Caribbean  Antarctica and Oceania  Total  \n",
       "GeographyCode                                                                 \n",
       "E01006512                                  24                       0   1880  "
      ]
     },
     "execution_count": 27,
     "metadata": {},
     "output_type": "execute_result"
    }
   ],
   "source": [
    "eu_lth = db.loc[(db['Europe'] * 100 / db['Total']) < 50, :]\n",
    "eu_lth"
   ]
  },
  {
   "cell_type": "markdown",
   "metadata": {
    "slideshow": {
     "slide_type": "slide"
    }
   },
   "source": [
    "## Alternative: the `query()` method"
   ]
  },
  {
   "cell_type": "markdown",
   "metadata": {
    "id": "_g3kCM3HFI-q"
   },
   "source": [
    "All the condition-based queries above are expressed using the `loc` operator. This is a powerful way and, since it shares syntax with index-based queries, it is also easier to remember. However, sometimes querying using `loc` involves a lot of quotation marks, parenthesis, etc. A more streamlined approach for condition-based queries of rows is provided by the `query` engine. Using this approach, we express everything in our query on a single string, or piece of text, and that is evaluated in the table at once. For example, we can run the same operation as in the first query above with the following syntax:"
   ]
  },
  {
   "cell_type": "code",
   "execution_count": 28,
   "metadata": {
    "id": "VEHpsl9QFI-q"
   },
   "outputs": [
    {
     "data": {
      "text/html": [
       "<div>\n",
       "<style scoped>\n",
       "    .dataframe tbody tr th:only-of-type {\n",
       "        vertical-align: middle;\n",
       "    }\n",
       "\n",
       "    .dataframe tbody tr th {\n",
       "        vertical-align: top;\n",
       "    }\n",
       "\n",
       "    .dataframe thead th {\n",
       "        text-align: right;\n",
       "    }\n",
       "</style>\n",
       "<table border=\"1\" class=\"dataframe\">\n",
       "  <thead>\n",
       "    <tr style=\"text-align: right;\">\n",
       "      <th></th>\n",
       "      <th>Europe</th>\n",
       "      <th>Africa</th>\n",
       "      <th>Middle East and Asia</th>\n",
       "      <th>The Americas and the Caribbean</th>\n",
       "      <th>Antarctica and Oceania</th>\n",
       "      <th>Total</th>\n",
       "    </tr>\n",
       "    <tr>\n",
       "      <th>GeographyCode</th>\n",
       "      <th></th>\n",
       "      <th></th>\n",
       "      <th></th>\n",
       "      <th></th>\n",
       "      <th></th>\n",
       "      <th></th>\n",
       "    </tr>\n",
       "  </thead>\n",
       "  <tbody>\n",
       "    <tr>\n",
       "      <th>E01006513</th>\n",
       "      <td>2225</td>\n",
       "      <td>61</td>\n",
       "      <td>595</td>\n",
       "      <td>53</td>\n",
       "      <td>7</td>\n",
       "      <td>2941</td>\n",
       "    </tr>\n",
       "    <tr>\n",
       "      <th>E01006747</th>\n",
       "      <td>2551</td>\n",
       "      <td>163</td>\n",
       "      <td>812</td>\n",
       "      <td>24</td>\n",
       "      <td>2</td>\n",
       "      <td>3552</td>\n",
       "    </tr>\n",
       "    <tr>\n",
       "      <th>E01006751</th>\n",
       "      <td>1843</td>\n",
       "      <td>139</td>\n",
       "      <td>568</td>\n",
       "      <td>21</td>\n",
       "      <td>1</td>\n",
       "      <td>2572</td>\n",
       "    </tr>\n",
       "  </tbody>\n",
       "</table>\n",
       "</div>"
      ],
      "text/plain": [
       "               Europe  Africa  Middle East and Asia  \\\n",
       "GeographyCode                                         \n",
       "E01006513        2225      61                   595   \n",
       "E01006747        2551     163                   812   \n",
       "E01006751        1843     139                   568   \n",
       "\n",
       "               The Americas and the Caribbean  Antarctica and Oceania  Total  \n",
       "GeographyCode                                                                 \n",
       "E01006513                                  53                       7   2941  \n",
       "E01006747                                  24                       2   3552  \n",
       "E01006751                                  21                       1   2572  "
      ]
     },
     "execution_count": 28,
     "metadata": {},
     "output_type": "execute_result"
    }
   ],
   "source": [
    "m5k_query = db.query(\"Total > 2500\")\n",
    "m5k_query"
   ]
  },
  {
   "cell_type": "markdown",
   "metadata": {
    "id": "9fChEnaoFI-q",
    "slideshow": {
     "slide_type": "slide"
    }
   },
   "source": [
    "If we want to combine operations, this is also possible:"
   ]
  },
  {
   "cell_type": "code",
   "execution_count": 29,
   "metadata": {
    "id": "BsRSA4ejFI-q"
   },
   "outputs": [],
   "source": [
    "m5k_query2 = db.query(\"(Total > 2500) & (Total < 10000)\")"
   ]
  },
  {
   "cell_type": "markdown",
   "metadata": {
    "id": "JOOc9aKKFI-q"
   },
   "source": [
    "Note that, in these cases, using `query` results in code that is much more streamlined and easier to read. However, `query` is not perfect and, particularly for more sophisticated queries, it does not afford the same degree of flexibility. For example, the last query we had using `loc` would not be possible using `query`."
   ]
  },
  {
   "cell_type": "markdown",
   "metadata": {
    "id": "a66nLymYFI-r"
   },
   "source": [
    "If you are interested, more detail about `query` is available on the [official `pandas` documentation](https://pandas.pydata.org/pandas-docs/stable/user_guide/indexing.html#the-query-method)."
   ]
  },
  {
   "cell_type": "markdown",
   "metadata": {
    "id": "p-ywrVKpFI-r",
    "slideshow": {
     "slide_type": "slide"
    }
   },
   "source": [
    "### Combining queries\n",
    "\n",
    "Now all of these queries can be combined with each other, for further flexibility. For example, imagine we want areas with more than 25 people from the Americas and Caribbean, but less than 1,500 in total:"
   ]
  },
  {
   "cell_type": "code",
   "execution_count": 30,
   "metadata": {
    "id": "gwbeM4kRFI-r",
    "outputId": "d18c4200-50b6-4ad4-9725-69817ba17043"
   },
   "outputs": [
    {
     "data": {
      "text/html": [
       "<div>\n",
       "<style scoped>\n",
       "    .dataframe tbody tr th:only-of-type {\n",
       "        vertical-align: middle;\n",
       "    }\n",
       "\n",
       "    .dataframe tbody tr th {\n",
       "        vertical-align: top;\n",
       "    }\n",
       "\n",
       "    .dataframe thead th {\n",
       "        text-align: right;\n",
       "    }\n",
       "</style>\n",
       "<table border=\"1\" class=\"dataframe\">\n",
       "  <thead>\n",
       "    <tr style=\"text-align: right;\">\n",
       "      <th></th>\n",
       "      <th>Europe</th>\n",
       "      <th>Africa</th>\n",
       "      <th>Middle East and Asia</th>\n",
       "      <th>The Americas and the Caribbean</th>\n",
       "      <th>Antarctica and Oceania</th>\n",
       "      <th>Total</th>\n",
       "    </tr>\n",
       "    <tr>\n",
       "      <th>GeographyCode</th>\n",
       "      <th></th>\n",
       "      <th></th>\n",
       "      <th></th>\n",
       "      <th></th>\n",
       "      <th></th>\n",
       "      <th></th>\n",
       "    </tr>\n",
       "  </thead>\n",
       "  <tbody>\n",
       "    <tr>\n",
       "      <th>E01033750</th>\n",
       "      <td>1235</td>\n",
       "      <td>53</td>\n",
       "      <td>129</td>\n",
       "      <td>26</td>\n",
       "      <td>5</td>\n",
       "      <td>1448</td>\n",
       "    </tr>\n",
       "    <tr>\n",
       "      <th>E01033752</th>\n",
       "      <td>1024</td>\n",
       "      <td>19</td>\n",
       "      <td>114</td>\n",
       "      <td>33</td>\n",
       "      <td>6</td>\n",
       "      <td>1196</td>\n",
       "    </tr>\n",
       "    <tr>\n",
       "      <th>E01033754</th>\n",
       "      <td>1262</td>\n",
       "      <td>37</td>\n",
       "      <td>112</td>\n",
       "      <td>32</td>\n",
       "      <td>9</td>\n",
       "      <td>1452</td>\n",
       "    </tr>\n",
       "    <tr>\n",
       "      <th>E01033756</th>\n",
       "      <td>886</td>\n",
       "      <td>31</td>\n",
       "      <td>221</td>\n",
       "      <td>42</td>\n",
       "      <td>5</td>\n",
       "      <td>1185</td>\n",
       "    </tr>\n",
       "    <tr>\n",
       "      <th>E01033757</th>\n",
       "      <td>731</td>\n",
       "      <td>39</td>\n",
       "      <td>223</td>\n",
       "      <td>29</td>\n",
       "      <td>3</td>\n",
       "      <td>1025</td>\n",
       "    </tr>\n",
       "    <tr>\n",
       "      <th>E01033761</th>\n",
       "      <td>1138</td>\n",
       "      <td>52</td>\n",
       "      <td>138</td>\n",
       "      <td>33</td>\n",
       "      <td>11</td>\n",
       "      <td>1372</td>\n",
       "    </tr>\n",
       "  </tbody>\n",
       "</table>\n",
       "</div>"
      ],
      "text/plain": [
       "               Europe  Africa  Middle East and Asia  \\\n",
       "GeographyCode                                         \n",
       "E01033750        1235      53                   129   \n",
       "E01033752        1024      19                   114   \n",
       "E01033754        1262      37                   112   \n",
       "E01033756         886      31                   221   \n",
       "E01033757         731      39                   223   \n",
       "E01033761        1138      52                   138   \n",
       "\n",
       "               The Americas and the Caribbean  Antarctica and Oceania  Total  \n",
       "GeographyCode                                                                 \n",
       "E01033750                                  26                       5   1448  \n",
       "E01033752                                  33                       6   1196  \n",
       "E01033754                                  32                       9   1452  \n",
       "E01033756                                  42                       5   1185  \n",
       "E01033757                                  29                       3   1025  \n",
       "E01033761                                  33                      11   1372  "
      ]
     },
     "execution_count": 30,
     "metadata": {},
     "output_type": "execute_result"
    }
   ],
   "source": [
    "ac25_l500 = db.loc[(db['The Americas and the Caribbean'] > 25) & \\\n",
    "                   (db['Total'] < 1500), :]\n",
    "ac25_l500"
   ]
  },
  {
   "cell_type": "markdown",
   "metadata": {
    "id": "KpM9XyLtFI-r",
    "slideshow": {
     "slide_type": "slide"
    }
   },
   "source": [
    "### Sorting\n",
    "\n"
   ]
  },
  {
   "cell_type": "markdown",
   "metadata": {
    "id": "SHApPDgiFI-r"
   },
   "source": [
    "Among the many operations `DataFrame` objects support, one of the most useful ones is to sort a table based on a given column. For example, imagine we want to sort the table by total population:"
   ]
  },
  {
   "cell_type": "code",
   "execution_count": 31,
   "metadata": {
    "id": "GTUXCB_wFI-r",
    "outputId": "110b36a5-a81f-4ea1-9426-1da17c646f30"
   },
   "outputs": [
    {
     "data": {
      "text/html": [
       "<div>\n",
       "<style scoped>\n",
       "    .dataframe tbody tr th:only-of-type {\n",
       "        vertical-align: middle;\n",
       "    }\n",
       "\n",
       "    .dataframe tbody tr th {\n",
       "        vertical-align: top;\n",
       "    }\n",
       "\n",
       "    .dataframe thead th {\n",
       "        text-align: right;\n",
       "    }\n",
       "</style>\n",
       "<table border=\"1\" class=\"dataframe\">\n",
       "  <thead>\n",
       "    <tr style=\"text-align: right;\">\n",
       "      <th></th>\n",
       "      <th>Europe</th>\n",
       "      <th>Africa</th>\n",
       "      <th>Middle East and Asia</th>\n",
       "      <th>The Americas and the Caribbean</th>\n",
       "      <th>Antarctica and Oceania</th>\n",
       "      <th>Total</th>\n",
       "    </tr>\n",
       "    <tr>\n",
       "      <th>GeographyCode</th>\n",
       "      <th></th>\n",
       "      <th></th>\n",
       "      <th></th>\n",
       "      <th></th>\n",
       "      <th></th>\n",
       "      <th></th>\n",
       "    </tr>\n",
       "  </thead>\n",
       "  <tbody>\n",
       "    <tr>\n",
       "      <th>E01006747</th>\n",
       "      <td>2551</td>\n",
       "      <td>163</td>\n",
       "      <td>812</td>\n",
       "      <td>24</td>\n",
       "      <td>2</td>\n",
       "      <td>3552</td>\n",
       "    </tr>\n",
       "    <tr>\n",
       "      <th>E01006513</th>\n",
       "      <td>2225</td>\n",
       "      <td>61</td>\n",
       "      <td>595</td>\n",
       "      <td>53</td>\n",
       "      <td>7</td>\n",
       "      <td>2941</td>\n",
       "    </tr>\n",
       "    <tr>\n",
       "      <th>E01006751</th>\n",
       "      <td>1843</td>\n",
       "      <td>139</td>\n",
       "      <td>568</td>\n",
       "      <td>21</td>\n",
       "      <td>1</td>\n",
       "      <td>2572</td>\n",
       "    </tr>\n",
       "    <tr>\n",
       "      <th>E01006524</th>\n",
       "      <td>2235</td>\n",
       "      <td>36</td>\n",
       "      <td>125</td>\n",
       "      <td>24</td>\n",
       "      <td>11</td>\n",
       "      <td>2431</td>\n",
       "    </tr>\n",
       "    <tr>\n",
       "      <th>E01006787</th>\n",
       "      <td>2187</td>\n",
       "      <td>53</td>\n",
       "      <td>75</td>\n",
       "      <td>13</td>\n",
       "      <td>2</td>\n",
       "      <td>2330</td>\n",
       "    </tr>\n",
       "  </tbody>\n",
       "</table>\n",
       "</div>"
      ],
      "text/plain": [
       "               Europe  Africa  Middle East and Asia  \\\n",
       "GeographyCode                                         \n",
       "E01006747        2551     163                   812   \n",
       "E01006513        2225      61                   595   \n",
       "E01006751        1843     139                   568   \n",
       "E01006524        2235      36                   125   \n",
       "E01006787        2187      53                    75   \n",
       "\n",
       "               The Americas and the Caribbean  Antarctica and Oceania  Total  \n",
       "GeographyCode                                                                 \n",
       "E01006747                                  24                       2   3552  \n",
       "E01006513                                  53                       7   2941  \n",
       "E01006751                                  21                       1   2572  \n",
       "E01006524                                  24                      11   2431  \n",
       "E01006787                                  13                       2   2330  "
      ]
     },
     "execution_count": 31,
     "metadata": {},
     "output_type": "execute_result"
    }
   ],
   "source": [
    "db_pop_sorted = db.sort_values('Total', ascending=False)\n",
    "db_pop_sorted.head()"
   ]
  },
  {
   "cell_type": "markdown",
   "metadata": {
    "slideshow": {
     "slide_type": "slide"
    }
   },
   "source": [
    "## Obtaining help in the documentation"
   ]
  },
  {
   "cell_type": "code",
   "execution_count": 32,
   "metadata": {
    "id": "la5241lxFI-s"
   },
   "outputs": [
    {
     "name": "stdout",
     "output_type": "stream",
     "text": [
      "\u001b[0;31mSignature:\u001b[0m\n",
      "\u001b[0mdb\u001b[0m\u001b[0;34m.\u001b[0m\u001b[0msort_values\u001b[0m\u001b[0;34m(\u001b[0m\u001b[0;34m\u001b[0m\n",
      "\u001b[0;34m\u001b[0m    \u001b[0mby\u001b[0m\u001b[0;34m:\u001b[0m \u001b[0;34m'IndexLabel'\u001b[0m\u001b[0;34m,\u001b[0m\u001b[0;34m\u001b[0m\n",
      "\u001b[0;34m\u001b[0m    \u001b[0;34m*\u001b[0m\u001b[0;34m,\u001b[0m\u001b[0;34m\u001b[0m\n",
      "\u001b[0;34m\u001b[0m    \u001b[0maxis\u001b[0m\u001b[0;34m:\u001b[0m \u001b[0;34m'Axis'\u001b[0m \u001b[0;34m=\u001b[0m \u001b[0;36m0\u001b[0m\u001b[0;34m,\u001b[0m\u001b[0;34m\u001b[0m\n",
      "\u001b[0;34m\u001b[0m    \u001b[0mascending\u001b[0m\u001b[0;34m:\u001b[0m \u001b[0;34m'bool | list[bool] | tuple[bool, ...]'\u001b[0m \u001b[0;34m=\u001b[0m \u001b[0;32mTrue\u001b[0m\u001b[0;34m,\u001b[0m\u001b[0;34m\u001b[0m\n",
      "\u001b[0;34m\u001b[0m    \u001b[0minplace\u001b[0m\u001b[0;34m:\u001b[0m \u001b[0;34m'bool'\u001b[0m \u001b[0;34m=\u001b[0m \u001b[0;32mFalse\u001b[0m\u001b[0;34m,\u001b[0m\u001b[0;34m\u001b[0m\n",
      "\u001b[0;34m\u001b[0m    \u001b[0mkind\u001b[0m\u001b[0;34m:\u001b[0m \u001b[0;34m'str'\u001b[0m \u001b[0;34m=\u001b[0m \u001b[0;34m'quicksort'\u001b[0m\u001b[0;34m,\u001b[0m\u001b[0;34m\u001b[0m\n",
      "\u001b[0;34m\u001b[0m    \u001b[0mna_position\u001b[0m\u001b[0;34m:\u001b[0m \u001b[0;34m'str'\u001b[0m \u001b[0;34m=\u001b[0m \u001b[0;34m'last'\u001b[0m\u001b[0;34m,\u001b[0m\u001b[0;34m\u001b[0m\n",
      "\u001b[0;34m\u001b[0m    \u001b[0mignore_index\u001b[0m\u001b[0;34m:\u001b[0m \u001b[0;34m'bool'\u001b[0m \u001b[0;34m=\u001b[0m \u001b[0;32mFalse\u001b[0m\u001b[0;34m,\u001b[0m\u001b[0;34m\u001b[0m\n",
      "\u001b[0;34m\u001b[0m    \u001b[0mkey\u001b[0m\u001b[0;34m:\u001b[0m \u001b[0;34m'ValueKeyFunc'\u001b[0m \u001b[0;34m=\u001b[0m \u001b[0;32mNone\u001b[0m\u001b[0;34m,\u001b[0m\u001b[0;34m\u001b[0m\n",
      "\u001b[0;34m\u001b[0m\u001b[0;34m)\u001b[0m \u001b[0;34m->\u001b[0m \u001b[0;34m'DataFrame | None'\u001b[0m\u001b[0;34m\u001b[0m\u001b[0;34m\u001b[0m\u001b[0m\n",
      "\u001b[0;31mDocstring:\u001b[0m\n",
      "Sort by the values along either axis.\n",
      "\n",
      "Parameters\n",
      "----------\n",
      "by : str or list of str\n",
      "    Name or list of names to sort by.\n",
      "\n",
      "    - if `axis` is 0 or `'index'` then `by` may contain index\n",
      "      levels and/or column labels.\n",
      "    - if `axis` is 1 or `'columns'` then `by` may contain column\n",
      "      levels and/or index labels.\n",
      "axis : {0 or 'index', 1 or 'columns'}, default 0\n",
      "     Axis to be sorted.\n",
      "ascending : bool or list of bool, default True\n",
      "     Sort ascending vs. descending. Specify list for multiple sort\n",
      "     orders.  If this is a list of bools, must match the length of\n",
      "     the by.\n",
      "inplace : bool, default False\n",
      "     If True, perform operation in-place.\n",
      "kind : {'quicksort', 'mergesort', 'heapsort', 'stable'}, default 'quicksort'\n",
      "     Choice of sorting algorithm. See also :func:`numpy.sort` for more\n",
      "     information. `mergesort` and `stable` are the only stable algorithms. For\n",
      "     DataFrames, this option is only applied when sorting on a single\n",
      "     column or label.\n",
      "na_position : {'first', 'last'}, default 'last'\n",
      "     Puts NaNs at the beginning if `first`; `last` puts NaNs at the\n",
      "     end.\n",
      "ignore_index : bool, default False\n",
      "     If True, the resulting axis will be labeled 0, 1, …, n - 1.\n",
      "key : callable, optional\n",
      "    Apply the key function to the values\n",
      "    before sorting. This is similar to the `key` argument in the\n",
      "    builtin :meth:`sorted` function, with the notable difference that\n",
      "    this `key` function should be *vectorized*. It should expect a\n",
      "    ``Series`` and return a Series with the same shape as the input.\n",
      "    It will be applied to each column in `by` independently.\n",
      "\n",
      "    .. versionadded:: 1.1.0\n",
      "\n",
      "Returns\n",
      "-------\n",
      "DataFrame or None\n",
      "    DataFrame with sorted values or None if ``inplace=True``.\n",
      "\n",
      "See Also\n",
      "--------\n",
      "DataFrame.sort_index : Sort a DataFrame by the index.\n",
      "Series.sort_values : Similar method for a Series.\n",
      "\n",
      "Examples\n",
      "--------\n",
      ">>> df = pd.DataFrame({\n",
      "...     'col1': ['A', 'A', 'B', np.nan, 'D', 'C'],\n",
      "...     'col2': [2, 1, 9, 8, 7, 4],\n",
      "...     'col3': [0, 1, 9, 4, 2, 3],\n",
      "...     'col4': ['a', 'B', 'c', 'D', 'e', 'F']\n",
      "... })\n",
      ">>> df\n",
      "  col1  col2  col3 col4\n",
      "0    A     2     0    a\n",
      "1    A     1     1    B\n",
      "2    B     9     9    c\n",
      "3  NaN     8     4    D\n",
      "4    D     7     2    e\n",
      "5    C     4     3    F\n",
      "\n",
      "Sort by col1\n",
      "\n",
      ">>> df.sort_values(by=['col1'])\n",
      "  col1  col2  col3 col4\n",
      "0    A     2     0    a\n",
      "1    A     1     1    B\n",
      "2    B     9     9    c\n",
      "5    C     4     3    F\n",
      "4    D     7     2    e\n",
      "3  NaN     8     4    D\n",
      "\n",
      "Sort by multiple columns\n",
      "\n",
      ">>> df.sort_values(by=['col1', 'col2'])\n",
      "  col1  col2  col3 col4\n",
      "1    A     1     1    B\n",
      "0    A     2     0    a\n",
      "2    B     9     9    c\n",
      "5    C     4     3    F\n",
      "4    D     7     2    e\n",
      "3  NaN     8     4    D\n",
      "\n",
      "Sort Descending\n",
      "\n",
      ">>> df.sort_values(by='col1', ascending=False)\n",
      "  col1  col2  col3 col4\n",
      "4    D     7     2    e\n",
      "5    C     4     3    F\n",
      "2    B     9     9    c\n",
      "0    A     2     0    a\n",
      "1    A     1     1    B\n",
      "3  NaN     8     4    D\n",
      "\n",
      "Putting NAs first\n",
      "\n",
      ">>> df.sort_values(by='col1', ascending=False, na_position='first')\n",
      "  col1  col2  col3 col4\n",
      "3  NaN     8     4    D\n",
      "4    D     7     2    e\n",
      "5    C     4     3    F\n",
      "2    B     9     9    c\n",
      "0    A     2     0    a\n",
      "1    A     1     1    B\n",
      "\n",
      "Sorting with a key function\n",
      "\n",
      ">>> df.sort_values(by='col4', key=lambda col: col.str.lower())\n",
      "   col1  col2  col3 col4\n",
      "0    A     2     0    a\n",
      "1    A     1     1    B\n",
      "2    B     9     9    c\n",
      "3  NaN     8     4    D\n",
      "4    D     7     2    e\n",
      "5    C     4     3    F\n",
      "\n",
      "Natural sort with the key argument,\n",
      "using the `natsort <https://github.com/SethMMorton/natsort>` package.\n",
      "\n",
      ">>> df = pd.DataFrame({\n",
      "...    \"time\": ['0hr', '128hr', '72hr', '48hr', '96hr'],\n",
      "...    \"value\": [10, 20, 30, 40, 50]\n",
      "... })\n",
      ">>> df\n",
      "    time  value\n",
      "0    0hr     10\n",
      "1  128hr     20\n",
      "2   72hr     30\n",
      "3   48hr     40\n",
      "4   96hr     50\n",
      ">>> from natsort import index_natsorted\n",
      ">>> df.sort_values(\n",
      "...     by=\"time\",\n",
      "...     key=lambda x: np.argsort(index_natsorted(df[\"time\"]))\n",
      "... )\n",
      "    time  value\n",
      "0    0hr     10\n",
      "3   48hr     40\n",
      "2   72hr     30\n",
      "4   96hr     50\n",
      "1  128hr     20\n",
      "\u001b[0;31mFile:\u001b[0m      ~/.local/lib/python3.8/site-packages/pandas/core/frame.py\n",
      "\u001b[0;31mType:\u001b[0m      method"
     ]
    }
   ],
   "source": [
    "db.sort_values?"
   ]
  },
  {
   "cell_type": "code",
   "execution_count": 33,
   "metadata": {
    "id": "YtXuYkDHFI-s",
    "outputId": "5f5020c8-ae35-404e-d03f-4faa94451117"
   },
   "outputs": [
    {
     "name": "stdout",
     "output_type": "stream",
     "text": [
      "Help on method sort_values in module pandas.core.frame:\n",
      "\n",
      "sort_values(by: 'IndexLabel', *, axis: 'Axis' = 0, ascending: 'bool | list[bool] | tuple[bool, ...]' = True, inplace: 'bool' = False, kind: 'str' = 'quicksort', na_position: 'str' = 'last', ignore_index: 'bool' = False, key: 'ValueKeyFunc' = None) -> 'DataFrame | None' method of pandas.core.frame.DataFrame instance\n",
      "    Sort by the values along either axis.\n",
      "    \n",
      "    Parameters\n",
      "    ----------\n",
      "    by : str or list of str\n",
      "        Name or list of names to sort by.\n",
      "    \n",
      "        - if `axis` is 0 or `'index'` then `by` may contain index\n",
      "          levels and/or column labels.\n",
      "        - if `axis` is 1 or `'columns'` then `by` may contain column\n",
      "          levels and/or index labels.\n",
      "    axis : {0 or 'index', 1 or 'columns'}, default 0\n",
      "         Axis to be sorted.\n",
      "    ascending : bool or list of bool, default True\n",
      "         Sort ascending vs. descending. Specify list for multiple sort\n",
      "         orders.  If this is a list of bools, must match the length of\n",
      "         the by.\n",
      "    inplace : bool, default False\n",
      "         If True, perform operation in-place.\n",
      "    kind : {'quicksort', 'mergesort', 'heapsort', 'stable'}, default 'quicksort'\n",
      "         Choice of sorting algorithm. See also :func:`numpy.sort` for more\n",
      "         information. `mergesort` and `stable` are the only stable algorithms. For\n",
      "         DataFrames, this option is only applied when sorting on a single\n",
      "         column or label.\n",
      "    na_position : {'first', 'last'}, default 'last'\n",
      "         Puts NaNs at the beginning if `first`; `last` puts NaNs at the\n",
      "         end.\n",
      "    ignore_index : bool, default False\n",
      "         If True, the resulting axis will be labeled 0, 1, …, n - 1.\n",
      "    key : callable, optional\n",
      "        Apply the key function to the values\n",
      "        before sorting. This is similar to the `key` argument in the\n",
      "        builtin :meth:`sorted` function, with the notable difference that\n",
      "        this `key` function should be *vectorized*. It should expect a\n",
      "        ``Series`` and return a Series with the same shape as the input.\n",
      "        It will be applied to each column in `by` independently.\n",
      "    \n",
      "        .. versionadded:: 1.1.0\n",
      "    \n",
      "    Returns\n",
      "    -------\n",
      "    DataFrame or None\n",
      "        DataFrame with sorted values or None if ``inplace=True``.\n",
      "    \n",
      "    See Also\n",
      "    --------\n",
      "    DataFrame.sort_index : Sort a DataFrame by the index.\n",
      "    Series.sort_values : Similar method for a Series.\n",
      "    \n",
      "    Examples\n",
      "    --------\n",
      "    >>> df = pd.DataFrame({\n",
      "    ...     'col1': ['A', 'A', 'B', np.nan, 'D', 'C'],\n",
      "    ...     'col2': [2, 1, 9, 8, 7, 4],\n",
      "    ...     'col3': [0, 1, 9, 4, 2, 3],\n",
      "    ...     'col4': ['a', 'B', 'c', 'D', 'e', 'F']\n",
      "    ... })\n",
      "    >>> df\n",
      "      col1  col2  col3 col4\n",
      "    0    A     2     0    a\n",
      "    1    A     1     1    B\n",
      "    2    B     9     9    c\n",
      "    3  NaN     8     4    D\n",
      "    4    D     7     2    e\n",
      "    5    C     4     3    F\n",
      "    \n",
      "    Sort by col1\n",
      "    \n",
      "    >>> df.sort_values(by=['col1'])\n",
      "      col1  col2  col3 col4\n",
      "    0    A     2     0    a\n",
      "    1    A     1     1    B\n",
      "    2    B     9     9    c\n",
      "    5    C     4     3    F\n",
      "    4    D     7     2    e\n",
      "    3  NaN     8     4    D\n",
      "    \n",
      "    Sort by multiple columns\n",
      "    \n",
      "    >>> df.sort_values(by=['col1', 'col2'])\n",
      "      col1  col2  col3 col4\n",
      "    1    A     1     1    B\n",
      "    0    A     2     0    a\n",
      "    2    B     9     9    c\n",
      "    5    C     4     3    F\n",
      "    4    D     7     2    e\n",
      "    3  NaN     8     4    D\n",
      "    \n",
      "    Sort Descending\n",
      "    \n",
      "    >>> df.sort_values(by='col1', ascending=False)\n",
      "      col1  col2  col3 col4\n",
      "    4    D     7     2    e\n",
      "    5    C     4     3    F\n",
      "    2    B     9     9    c\n",
      "    0    A     2     0    a\n",
      "    1    A     1     1    B\n",
      "    3  NaN     8     4    D\n",
      "    \n",
      "    Putting NAs first\n",
      "    \n",
      "    >>> df.sort_values(by='col1', ascending=False, na_position='first')\n",
      "      col1  col2  col3 col4\n",
      "    3  NaN     8     4    D\n",
      "    4    D     7     2    e\n",
      "    5    C     4     3    F\n",
      "    2    B     9     9    c\n",
      "    0    A     2     0    a\n",
      "    1    A     1     1    B\n",
      "    \n",
      "    Sorting with a key function\n",
      "    \n",
      "    >>> df.sort_values(by='col4', key=lambda col: col.str.lower())\n",
      "       col1  col2  col3 col4\n",
      "    0    A     2     0    a\n",
      "    1    A     1     1    B\n",
      "    2    B     9     9    c\n",
      "    3  NaN     8     4    D\n",
      "    4    D     7     2    e\n",
      "    5    C     4     3    F\n",
      "    \n",
      "    Natural sort with the key argument,\n",
      "    using the `natsort <https://github.com/SethMMorton/natsort>` package.\n",
      "    \n",
      "    >>> df = pd.DataFrame({\n",
      "    ...    \"time\": ['0hr', '128hr', '72hr', '48hr', '96hr'],\n",
      "    ...    \"value\": [10, 20, 30, 40, 50]\n",
      "    ... })\n",
      "    >>> df\n",
      "        time  value\n",
      "    0    0hr     10\n",
      "    1  128hr     20\n",
      "    2   72hr     30\n",
      "    3   48hr     40\n",
      "    4   96hr     50\n",
      "    >>> from natsort import index_natsorted\n",
      "    >>> df.sort_values(\n",
      "    ...     by=\"time\",\n",
      "    ...     key=lambda x: np.argsort(index_natsorted(df[\"time\"]))\n",
      "    ... )\n",
      "        time  value\n",
      "    0    0hr     10\n",
      "    3   48hr     40\n",
      "    2   72hr     30\n",
      "    4   96hr     50\n",
      "    1  128hr     20\n",
      "\n"
     ]
    }
   ],
   "source": [
    "help(db.sort_values)"
   ]
  },
  {
   "cell_type": "markdown",
   "metadata": {
    "id": "7aNyTRoyFI-r",
    "slideshow": {
     "slide_type": "skip"
    }
   },
   "source": [
    "If you inspect the help of `db.sort_values`, you will find that you can pass more than one column to sort the table by. This allows you to do so-called hiearchical sorting: sort first based on one column, if equal then based on another column, etc."
   ]
  },
  {
   "cell_type": "markdown",
   "metadata": {
    "id": "Z0xqDtaFFI-s",
    "slideshow": {
     "slide_type": "slide"
    }
   },
   "source": [
    "## Visual exploration\n"
   ]
  },
  {
   "cell_type": "markdown",
   "metadata": {
    "id": "L6W63h7gFI-s"
   },
   "source": [
    "The next step to continue exploring a dataset is to get a feel for what it looks like, visually. We have already learnt how to unconver and inspect specific parts of the data, to check for particular cases we might be intersted in. Now we will see how to plot the data to get a sense of the overall distribution of values. For that, we will be using the Python library [`seaborn`](http://stanford.edu/~mwaskom/software/seaborn/index.html)."
   ]
  },
  {
   "cell_type": "code",
   "execution_count": 34,
   "metadata": {
    "id": "Rps0xh_ZFI-s"
   },
   "outputs": [],
   "source": [
    "import seaborn as sns  # This allows us to efficiently and beautifully plot"
   ]
  },
  {
   "cell_type": "code",
   "execution_count": 35,
   "metadata": {
    "id": "JuroPkBcFI-s"
   },
   "outputs": [],
   "source": [
    "# This ensures visualizations are plotted inside the notebook\n",
    "%matplotlib inline"
   ]
  },
  {
   "cell_type": "markdown",
   "metadata": {
    "id": "WmHtxsrvFI-s",
    "slideshow": {
     "slide_type": "slide"
    }
   },
   "source": [
    "## Histograms\n"
   ]
  },
  {
   "cell_type": "markdown",
   "metadata": {
    "id": "PCs23_gaFI-t",
    "slideshow": {
     "slide_type": "skip"
    }
   },
   "source": [
    "One of the most common graphical devices to display the distribution of values in a variable is a histogram. Values are assigned into groups of equal intervals, and the groups are plotted as bars rising as high as the number of values into the group.\n",
    "\n",
    "A histogram is easily created with the following command. In this case, let us have a look at the shape of the overall population:"
   ]
  },
  {
   "cell_type": "code",
   "execution_count": 36,
   "metadata": {
    "id": "fi1QenA6FI-t",
    "outputId": "8eed2e6c-af1b-42dc-b024-b8124ca711e6"
   },
   "outputs": [
    {
     "data": {
      "text/plain": [
       "<Axes: xlabel='Total', ylabel='Count'>"
      ]
     },
     "execution_count": 36,
     "metadata": {},
     "output_type": "execute_result"
    },
    {
     "data": {
      "image/png": "[encoded data removed]",
      "text/plain": [
       "<Figure size 640x480 with 1 Axes>"
      ]
     },
     "metadata": {},
     "output_type": "display_data"
    }
   ],
   "source": [
    "sns.histplot(db['Total'])"
   ]
  },
  {
   "cell_type": "markdown",
   "metadata": {
    "id": "sbljuMLOFI-t",
    "slideshow": {
     "slide_type": "slide"
    }
   },
   "source": [
    "Note we are using `sns` instead of `pd`, as the function belongs to `seaborn` instead of `pandas`.\n",
    "\n",
    "We can quickly see most of the areas contain somewhere between 1,200 and 1,700 people, approx. However, there are a few areas that have many more, even up to 3,500 people.\n",
    "\n",
    "An additional feature to visualize the density of values is called `rug`, and adds a little tick for each value on the horizontal axis:"
   ]
  },
  {
   "cell_type": "markdown",
   "metadata": {
    "id": "VS5eukGzFI-t",
    "slideshow": {
     "slide_type": "slide"
    }
   },
   "source": [
    "### Kernel Density Plots\n",
    "\n",
    "Histograms are useful, but they are artificial in the sense that a continuous variable is made discrete by turning the values into discrete groups. An alternative is kernel density estimation (KDE), which produces an empirical density function:"
   ]
  },
  {
   "cell_type": "code",
   "execution_count": 37,
   "metadata": {
    "id": "-pzha3QiFI-t",
    "outputId": "6f1b2392-b0e4-4bc5-f877-18241d34b247"
   },
   "outputs": [
    {
     "data": {
      "text/plain": [
       "<Axes: xlabel='Total', ylabel='Density'>"
      ]
     },
     "execution_count": 37,
     "metadata": {},
     "output_type": "execute_result"
    },
    {
     "data": {
      "image/png": "[encoded data removed]",
      "text/plain": [
       "<Figure size 640x480 with 1 Axes>"
      ]
     },
     "metadata": {},
     "output_type": "display_data"
    }
   ],
   "source": [
    "sns.kdeplot(db['Total'], fill = True )"
   ]
  },
  {
   "cell_type": "markdown",
   "metadata": {
    "id": "xnDNvTgDFI-t",
    "slideshow": {
     "slide_type": "slide"
    }
   },
   "source": [
    "### Line and bar plots\n",
    "\n",
    "Another very common way of visually displaying a variable is with a line or a bar chart. For example, if we want to generate a line plot of the (sorted) total population by area:"
   ]
  },
  {
   "cell_type": "code",
   "execution_count": 38,
   "metadata": {
    "id": "6z1WiO8cFI-t",
    "outputId": "b7c78a1b-a40a-4368-8caa-57673373ab83"
   },
   "outputs": [
    {
     "data": {
      "text/plain": [
       "<Axes: xlabel='GeographyCode'>"
      ]
     },
     "execution_count": 38,
     "metadata": {},
     "output_type": "execute_result"
    },
    {
     "data": {
      "image/png": "[encoded data removed]",
      "text/plain": [
       "<Figure size 640x480 with 1 Axes>"
      ]
     },
     "metadata": {},
     "output_type": "display_data"
    }
   ],
   "source": [
    "db['Total'].sort_values(ascending=False).plot()"
   ]
  },
  {
   "cell_type": "code",
   "execution_count": 39,
   "metadata": {
    "id": "kqLWQonoFI-t",
    "outputId": "bd10f613-e7f8-4d79-e983-8e8533e7ace0",
    "slideshow": {
     "slide_type": "slide"
    }
   },
   "outputs": [
    {
     "data": {
      "text/plain": [
       "<Axes: xlabel='GeographyCode'>"
      ]
     },
     "execution_count": 39,
     "metadata": {},
     "output_type": "execute_result"
    },
    {
     "data": {
      "image/png": "[encoded data removed]",
      "text/plain": [
       "<Figure size 640x480 with 1 Axes>"
      ]
     },
     "metadata": {},
     "output_type": "display_data"
    }
   ],
   "source": [
    "db['Total'].sort_values(ascending=False).plot.bar()"
   ]
  },
  {
   "cell_type": "markdown",
   "metadata": {
    "id": "5GxETpuIFI-t",
    "slideshow": {
     "slide_type": "slide"
    }
   },
   "source": [
    "For a bar plot all we need to do is to change from `plot` to `plot.bar`. Since there are many neighbourhoods, let us plot only the ten largest ones (which we can retrieve with `head`):"
   ]
  },
  {
   "cell_type": "code",
   "execution_count": 40,
   "metadata": {
    "id": "QCPnRlcRFI-u",
    "outputId": "f815626e-a218-482b-f3f4-06f2cebc9626"
   },
   "outputs": [
    {
     "data": {
      "text/plain": [
       "<Axes: xlabel='GeographyCode'>"
      ]
     },
     "execution_count": 40,
     "metadata": {},
     "output_type": "execute_result"
    },
    {
     "data": {
      "image/png": "[encoded data removed]",
      "text/plain": [
       "<Figure size 640x480 with 1 Axes>"
      ]
     },
     "metadata": {},
     "output_type": "display_data"
    }
   ],
   "source": [
    "db['Total'].sort_values(ascending=False)\\\n",
    ".head(10).plot.bar()"
   ]
  },
  {
   "cell_type": "markdown",
   "metadata": {
    "id": "Pe1-Hf3CFI-u",
    "slideshow": {
     "slide_type": "slide"
    }
   },
   "source": [
    "We can turn the plot around by displaying the bars horizontally (see how it's just changing `bar` for `barh`). Let's display now the top 20 areas and, to make it more readable, let us expand the plot's height:"
   ]
  },
  {
   "cell_type": "code",
   "execution_count": 41,
   "metadata": {
    "id": "7Hqwg_FXFI-u",
    "outputId": "6722b20c-8dd5-4f34-e650-928c7e36c922"
   },
   "outputs": [
    {
     "data": {
      "text/plain": [
       "<Axes: ylabel='GeographyCode'>"
      ]
     },
     "execution_count": 41,
     "metadata": {},
     "output_type": "execute_result"
    },
    {
     "data": {
      "image/png": "[encoded data removed]",
      "text/plain": [
       "<Figure size 600x700 with 1 Axes>"
      ]
     },
     "metadata": {},
     "output_type": "display_data"
    }
   ],
   "source": [
    "db['Total'].sort_values()\\\n",
    "               .head(20)\\\n",
    "               .plot.barh(figsize=(6, 7))"
   ]
  },
  {
   "cell_type": "markdown",
   "metadata": {
    "id": "L8hP7aGPFI-w",
    "slideshow": {
     "slide_type": "slide"
    }
   },
   "source": [
    "## Additional materials\n",
    "\n",
    "There are many great free online resources for practicing data manipulation using Python and Pandas. For example:\n",
    "* A great resource is the [Data Science Handbook](https://jakevdp.github.io/PythonDataScienceHandbook/) by Jake VanderPlas\n",
    "* Another, slightly more advanced introduction to data manipulation in Python using pandas is Wes McKinney's \"[Python for Data Analysis](https://wesmckinney.com/book/pandas-basics)\"\n",
    "* To explore further some of the visualization capabilities in at your fingertips, the Python library `seaborn` is an excellent choice. Its online [tutorial](https://seaborn.pydata.org/tutorial/introduction.html) is a fantastic place to start.\n"
   ]
  },
  {
   "cell_type": "markdown",
   "metadata": {},
   "source": [
    "<img src=\"images/d3.png\" style=\"width:50%; float:center;\" />"
   ]
  },
  {
   "cell_type": "markdown",
   "metadata": {},
   "source": []
  }
 ],
 "metadata": {
  "celltoolbar": "Slideshow",
  "colab": {
   "provenance": []
  },
  "kernelspec": {
   "display_name": "Python 3 (ipykernel)",
   "language": "python",
   "name": "python3"
  },
  "language_info": {
   "codemirror_mode": {
    "name": "ipython",
    "version": 3
   },
   "file_extension": ".py",
   "mimetype": "text/x-python",
   "name": "python",
   "nbconvert_exporter": "python",
   "pygments_lexer": "ipython3",
   "version": "3.8.17"
  },
  "rise": {
   "enable_chalkboard": false,
   "overlay": "<div class='background'></div><div class='header'>WS 23/24</br>Smart Cities & GSDA</div><div class='logo'><img src='images/unilogo.png'></div><div class='bar'></div>",
   "scroll": true,
   "slideNumber": "h.v"
  },
  "toc-autonumbering": false,
  "toc-showtags": false
 },
 "nbformat": 4,
 "nbformat_minor": 4
}
